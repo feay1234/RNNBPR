{
 "cells": [
  {
   "cell_type": "code",
   "execution_count": 85,
   "metadata": {
    "collapsed": false
   },
   "outputs": [],
   "source": [
    "import pandas as pd\n",
    "import numpy as np\n",
    "import matplotlib.pyplot as plt\n",
    "from datetime import datetime as dt\n",
    "import datetime\n",
    "from sklearn.metrics import roc_auc_score,average_precision_score,recall_score\n",
    "import letor_metrics as lm\n",
    "import os\n",
    "import csv\n",
    "import re\n",
    "from collections import Counter\n",
    "import random\n",
    "\n",
    "import theano\n",
    "import DataParser\n",
    "\n",
    "from keras.layers.core import Activation, Dense, Merge, Lambda\n",
    "from keras import backend as K\n",
    "from keras.models import Sequential,Model\n",
    "from keras.layers import Dense, LSTM, Flatten,SimpleRNN,Embedding,Input, merge,Reshape\n",
    "from keras.preprocessing import sequence\n",
    "from keras.optimizers import Adam,SGD\n",
    "from keras.regularizers import l2, activity_l2,l1\n",
    "\n",
    "\n",
    "pd.set_option('display.precision', 16)\n",
    "theano.config.openmp = True\n",
    "OMP_NUM_THREADS=4 \n",
    "\n",
    "\n",
    "#params\n",
    "latent_dim = 10"
   ]
  },
  {
   "cell_type": "code",
   "execution_count": 2,
   "metadata": {
    "collapsed": false
   },
   "outputs": [],
   "source": [
    "mode = \"day\"\n",
    "WINDOW = 7\n",
    "\n",
    "df, df_test,uNum, vNum = DataParser.readCheckinData('../datasets/gowallaTrain', '../datasets/gowallaTest')\n",
    "# convert to sparse matrix for each time window\n",
    "tuv = DataParser.sparseDataset(df, mode, WINDOW, uNum, vNum)\n",
    "tuv_test = DataParser.sparseDataset(df_test, mode, WINDOW, uNum, vNum)\n",
    "# pos/neg samples\n",
    "pos,neg = DataParser.generate_train_pairs(tuv)"
   ]
  },
  {
   "cell_type": "code",
   "execution_count": 8,
   "metadata": {
    "collapsed": false
   },
   "outputs": [
    {
     "name": "stdout",
     "output_type": "stream",
     "text": [
      "0\n",
      "1\n",
      "2\n",
      "3\n",
      "4\n",
      "5\n",
      "6\n"
     ]
    }
   ],
   "source": [
    "scores = {\"p\": [], \"ndcg\": [], \"auc\": [], \"map\": []}\n",
    "for t in range(WINDOW):\n",
    "    grnd = tuv_test[t]\n",
    "    for u in range(uNum):\n",
    "        if np.all(true[u]==0):\n",
    "            continue\n",
    "        \n",
    "        scores['auc'].append(roc_auc_score(grnd[u], pred[u].reshape((vNum,))))\n",
    "        scores['map'].append(average_precision_score(grnd[u], pred[u].reshape((vNum,))))\n",
    "        scores['p'].append(lm.ranking_precision_score(grnd[u], pred[u].reshape((vNum,))))\n",
    "        scores['ndcg'].append(lm.ndcg_score(grnd[u], pred[u].reshape((vNum,))))\n",
    "\n",
    "print('AUC, P@10, NDCG, MAP %s %s %s %s' % sum(scores['auc']) / len(scores['auc']), sum(scores['p']) / len(scores['p']), sum(scores['ndcg']) / len(scores['ndcg']), sum(scores['map']) / len(scores['map']))\n"
   ]
  },
  {
   "cell_type": "code",
   "execution_count": 81,
   "metadata": {
    "collapsed": false
   },
   "outputs": [
    {
     "name": "stdout",
     "output_type": "stream",
     "text": [
      "2017-03-20 15:18:11.531871\n",
      "Epoch 0\n"
     ]
    },
    {
     "ename": "KeyboardInterrupt",
     "evalue": "",
     "output_type": "error",
     "traceback": [
      "\u001b[0;31m---------------------------------------------------------------------------\u001b[0m",
      "\u001b[0;31mValueError\u001b[0m                                Traceback (most recent call last)",
      "\u001b[0;32m/Users/jarana/anaconda/lib/python3.5/site-packages/theano/gof/opt.py\u001b[0m in \u001b[0;36mpruner\u001b[0;34m(node)\u001b[0m\n\u001b[1;32m   2180\u001b[0m                     \u001b[0;32mtry\u001b[0m\u001b[0;34m:\u001b[0m\u001b[0;34m\u001b[0m\u001b[0m\n\u001b[0;32m-> 2181\u001b[0;31m                         \u001b[0mq\u001b[0m\u001b[0;34m.\u001b[0m\u001b[0mremove\u001b[0m\u001b[0;34m(\u001b[0m\u001b[0mnode\u001b[0m\u001b[0;34m)\u001b[0m\u001b[0;34m\u001b[0m\u001b[0m\n\u001b[0m\u001b[1;32m   2182\u001b[0m                     \u001b[0;32mexcept\u001b[0m \u001b[0mValueError\u001b[0m\u001b[0;34m:\u001b[0m\u001b[0;34m\u001b[0m\u001b[0m\n",
      "\u001b[0;31mValueError\u001b[0m: deque.remove(x): x not in deque",
      "\nDuring handling of the above exception, another exception occurred:\n",
      "\u001b[0;31mKeyboardInterrupt\u001b[0m                         Traceback (most recent call last)",
      "\u001b[0;32m<ipython-input-81-2abb3020e720>\u001b[0m in \u001b[0;36m<module>\u001b[0;34m()\u001b[0m\n\u001b[1;32m    119\u001b[0m               \u001b[0mnb_epoch\u001b[0m\u001b[0;34m=\u001b[0m\u001b[0;36m1\u001b[0m\u001b[0;34m,\u001b[0m\u001b[0;34m\u001b[0m\u001b[0m\n\u001b[1;32m    120\u001b[0m               \u001b[0mverbose\u001b[0m\u001b[0;34m=\u001b[0m\u001b[0;36m1\u001b[0m\u001b[0;34m,\u001b[0m\u001b[0;34m\u001b[0m\u001b[0m\n\u001b[0;32m--> 121\u001b[0;31m               shuffle=True)\n\u001b[0m\u001b[1;32m    122\u001b[0m \u001b[0;31m#     print('AUC %s' % full_auc(rnn,user_temporal_embedding_layer, tuv_test))\u001b[0m\u001b[0;34m\u001b[0m\u001b[0;34m\u001b[0m\u001b[0m\n",
      "\u001b[0;32m/Users/jarana/anaconda/lib/python3.5/site-packages/keras/engine/training.py\u001b[0m in \u001b[0;36mfit\u001b[0;34m(self, x, y, batch_size, nb_epoch, verbose, callbacks, validation_split, validation_data, shuffle, class_weight, sample_weight, initial_epoch)\u001b[0m\n\u001b[1;32m   1166\u001b[0m         \u001b[0;32melse\u001b[0m\u001b[0;34m:\u001b[0m\u001b[0;34m\u001b[0m\u001b[0m\n\u001b[1;32m   1167\u001b[0m             \u001b[0mins\u001b[0m \u001b[0;34m=\u001b[0m \u001b[0mx\u001b[0m \u001b[0;34m+\u001b[0m \u001b[0my\u001b[0m \u001b[0;34m+\u001b[0m \u001b[0msample_weights\u001b[0m\u001b[0;34m\u001b[0m\u001b[0m\n\u001b[0;32m-> 1168\u001b[0;31m         \u001b[0mself\u001b[0m\u001b[0;34m.\u001b[0m\u001b[0m_make_train_function\u001b[0m\u001b[0;34m(\u001b[0m\u001b[0;34m)\u001b[0m\u001b[0;34m\u001b[0m\u001b[0m\n\u001b[0m\u001b[1;32m   1169\u001b[0m         \u001b[0mf\u001b[0m \u001b[0;34m=\u001b[0m \u001b[0mself\u001b[0m\u001b[0;34m.\u001b[0m\u001b[0mtrain_function\u001b[0m\u001b[0;34m\u001b[0m\u001b[0m\n\u001b[1;32m   1170\u001b[0m \u001b[0;34m\u001b[0m\u001b[0m\n",
      "\u001b[0;32m/Users/jarana/anaconda/lib/python3.5/site-packages/keras/engine/training.py\u001b[0m in \u001b[0;36m_make_train_function\u001b[0;34m(self)\u001b[0m\n\u001b[1;32m    765\u001b[0m                                              \u001b[0;34m[\u001b[0m\u001b[0mself\u001b[0m\u001b[0;34m.\u001b[0m\u001b[0mtotal_loss\u001b[0m\u001b[0;34m]\u001b[0m \u001b[0;34m+\u001b[0m \u001b[0mself\u001b[0m\u001b[0;34m.\u001b[0m\u001b[0mmetrics_tensors\u001b[0m\u001b[0;34m,\u001b[0m\u001b[0;34m\u001b[0m\u001b[0m\n\u001b[1;32m    766\u001b[0m                                              \u001b[0mupdates\u001b[0m\u001b[0;34m=\u001b[0m\u001b[0mupdates\u001b[0m\u001b[0;34m,\u001b[0m\u001b[0;34m\u001b[0m\u001b[0m\n\u001b[0;32m--> 767\u001b[0;31m                                              **self._function_kwargs)\n\u001b[0m\u001b[1;32m    768\u001b[0m \u001b[0;34m\u001b[0m\u001b[0m\n\u001b[1;32m    769\u001b[0m     \u001b[0;32mdef\u001b[0m \u001b[0m_make_test_function\u001b[0m\u001b[0;34m(\u001b[0m\u001b[0mself\u001b[0m\u001b[0;34m)\u001b[0m\u001b[0;34m:\u001b[0m\u001b[0;34m\u001b[0m\u001b[0m\n",
      "\u001b[0;32m/Users/jarana/anaconda/lib/python3.5/site-packages/keras/backend/theano_backend.py\u001b[0m in \u001b[0;36mfunction\u001b[0;34m(inputs, outputs, updates, **kwargs)\u001b[0m\n\u001b[1;32m    967\u001b[0m                 \u001b[0mmsg\u001b[0m \u001b[0;34m=\u001b[0m \u001b[0;34m'Invalid argument \"%s\" passed to K.function'\u001b[0m \u001b[0;34m%\u001b[0m \u001b[0mkey\u001b[0m\u001b[0;34m\u001b[0m\u001b[0m\n\u001b[1;32m    968\u001b[0m                 \u001b[0;32mraise\u001b[0m \u001b[0mValueError\u001b[0m\u001b[0;34m(\u001b[0m\u001b[0mmsg\u001b[0m\u001b[0;34m)\u001b[0m\u001b[0;34m\u001b[0m\u001b[0m\n\u001b[0;32m--> 969\u001b[0;31m     \u001b[0;32mreturn\u001b[0m \u001b[0mFunction\u001b[0m\u001b[0;34m(\u001b[0m\u001b[0minputs\u001b[0m\u001b[0;34m,\u001b[0m \u001b[0moutputs\u001b[0m\u001b[0;34m,\u001b[0m \u001b[0mupdates\u001b[0m\u001b[0;34m=\u001b[0m\u001b[0mupdates\u001b[0m\u001b[0;34m,\u001b[0m \u001b[0;34m**\u001b[0m\u001b[0mkwargs\u001b[0m\u001b[0;34m)\u001b[0m\u001b[0;34m\u001b[0m\u001b[0m\n\u001b[0m\u001b[1;32m    970\u001b[0m \u001b[0;34m\u001b[0m\u001b[0m\n\u001b[1;32m    971\u001b[0m \u001b[0;34m\u001b[0m\u001b[0m\n",
      "\u001b[0;32m/Users/jarana/anaconda/lib/python3.5/site-packages/keras/backend/theano_backend.py\u001b[0m in \u001b[0;36m__init__\u001b[0;34m(self, inputs, outputs, updates, **kwargs)\u001b[0m\n\u001b[1;32m    953\u001b[0m                                         \u001b[0mallow_input_downcast\u001b[0m\u001b[0;34m=\u001b[0m\u001b[0;32mTrue\u001b[0m\u001b[0;34m,\u001b[0m\u001b[0;34m\u001b[0m\u001b[0m\n\u001b[1;32m    954\u001b[0m                                         \u001b[0mon_unused_input\u001b[0m\u001b[0;34m=\u001b[0m\u001b[0;34m'ignore'\u001b[0m\u001b[0;34m,\u001b[0m\u001b[0;34m\u001b[0m\u001b[0m\n\u001b[0;32m--> 955\u001b[0;31m                                         **kwargs)\n\u001b[0m\u001b[1;32m    956\u001b[0m \u001b[0;34m\u001b[0m\u001b[0m\n\u001b[1;32m    957\u001b[0m     \u001b[0;32mdef\u001b[0m \u001b[0m__call__\u001b[0m\u001b[0;34m(\u001b[0m\u001b[0mself\u001b[0m\u001b[0;34m,\u001b[0m \u001b[0minputs\u001b[0m\u001b[0;34m)\u001b[0m\u001b[0;34m:\u001b[0m\u001b[0;34m\u001b[0m\u001b[0m\n",
      "\u001b[0;32m/Users/jarana/anaconda/lib/python3.5/site-packages/theano/compile/function.py\u001b[0m in \u001b[0;36mfunction\u001b[0;34m(inputs, outputs, mode, updates, givens, no_default_updates, accept_inplace, name, rebuild_strict, allow_input_downcast, profile, on_unused_input)\u001b[0m\n\u001b[1;32m    318\u001b[0m                    \u001b[0mon_unused_input\u001b[0m\u001b[0;34m=\u001b[0m\u001b[0mon_unused_input\u001b[0m\u001b[0;34m,\u001b[0m\u001b[0;34m\u001b[0m\u001b[0m\n\u001b[1;32m    319\u001b[0m                    \u001b[0mprofile\u001b[0m\u001b[0;34m=\u001b[0m\u001b[0mprofile\u001b[0m\u001b[0;34m,\u001b[0m\u001b[0;34m\u001b[0m\u001b[0m\n\u001b[0;32m--> 320\u001b[0;31m                    output_keys=output_keys)\n\u001b[0m\u001b[1;32m    321\u001b[0m     \u001b[0;31m# We need to add the flag check_aliased inputs if we have any mutable or\u001b[0m\u001b[0;34m\u001b[0m\u001b[0;34m\u001b[0m\u001b[0m\n\u001b[1;32m    322\u001b[0m     \u001b[0;31m# borrowed used defined inputs\u001b[0m\u001b[0;34m\u001b[0m\u001b[0;34m\u001b[0m\u001b[0m\n",
      "\u001b[0;32m/Users/jarana/anaconda/lib/python3.5/site-packages/theano/compile/pfunc.py\u001b[0m in \u001b[0;36mpfunc\u001b[0;34m(params, outputs, mode, updates, givens, no_default_updates, accept_inplace, name, rebuild_strict, allow_input_downcast, profile, on_unused_input, output_keys)\u001b[0m\n\u001b[1;32m    477\u001b[0m                          \u001b[0maccept_inplace\u001b[0m\u001b[0;34m=\u001b[0m\u001b[0maccept_inplace\u001b[0m\u001b[0;34m,\u001b[0m \u001b[0mname\u001b[0m\u001b[0;34m=\u001b[0m\u001b[0mname\u001b[0m\u001b[0;34m,\u001b[0m\u001b[0;34m\u001b[0m\u001b[0m\n\u001b[1;32m    478\u001b[0m                          \u001b[0mprofile\u001b[0m\u001b[0;34m=\u001b[0m\u001b[0mprofile\u001b[0m\u001b[0;34m,\u001b[0m \u001b[0mon_unused_input\u001b[0m\u001b[0;34m=\u001b[0m\u001b[0mon_unused_input\u001b[0m\u001b[0;34m,\u001b[0m\u001b[0;34m\u001b[0m\u001b[0m\n\u001b[0;32m--> 479\u001b[0;31m                          output_keys=output_keys)\n\u001b[0m\u001b[1;32m    480\u001b[0m \u001b[0;34m\u001b[0m\u001b[0m\n\u001b[1;32m    481\u001b[0m \u001b[0;34m\u001b[0m\u001b[0m\n",
      "\u001b[0;32m/Users/jarana/anaconda/lib/python3.5/site-packages/theano/compile/function_module.py\u001b[0m in \u001b[0;36morig_function\u001b[0;34m(inputs, outputs, mode, accept_inplace, name, profile, on_unused_input, output_keys)\u001b[0m\n\u001b[1;32m   1774\u001b[0m                    \u001b[0mprofile\u001b[0m\u001b[0;34m=\u001b[0m\u001b[0mprofile\u001b[0m\u001b[0;34m,\u001b[0m\u001b[0;34m\u001b[0m\u001b[0m\n\u001b[1;32m   1775\u001b[0m                    \u001b[0mon_unused_input\u001b[0m\u001b[0;34m=\u001b[0m\u001b[0mon_unused_input\u001b[0m\u001b[0;34m,\u001b[0m\u001b[0;34m\u001b[0m\u001b[0m\n\u001b[0;32m-> 1776\u001b[0;31m                    \u001b[0moutput_keys\u001b[0m\u001b[0;34m=\u001b[0m\u001b[0moutput_keys\u001b[0m\u001b[0;34m)\u001b[0m\u001b[0;34m.\u001b[0m\u001b[0mcreate\u001b[0m\u001b[0;34m(\u001b[0m\u001b[0;34m\u001b[0m\u001b[0m\n\u001b[0m\u001b[1;32m   1777\u001b[0m             defaults)\n\u001b[1;32m   1778\u001b[0m \u001b[0;34m\u001b[0m\u001b[0m\n",
      "\u001b[0;32m/Users/jarana/anaconda/lib/python3.5/site-packages/theano/compile/function_module.py\u001b[0m in \u001b[0;36m__init__\u001b[0;34m(self, inputs, outputs, mode, accept_inplace, function_builder, profile, on_unused_input, fgraph, output_keys)\u001b[0m\n\u001b[1;32m   1454\u001b[0m                         optimizer, inputs, outputs)\n\u001b[1;32m   1455\u001b[0m                 \u001b[0;32melse\u001b[0m\u001b[0;34m:\u001b[0m\u001b[0;34m\u001b[0m\u001b[0m\n\u001b[0;32m-> 1456\u001b[0;31m                     \u001b[0moptimizer_profile\u001b[0m \u001b[0;34m=\u001b[0m \u001b[0moptimizer\u001b[0m\u001b[0;34m(\u001b[0m\u001b[0mfgraph\u001b[0m\u001b[0;34m)\u001b[0m\u001b[0;34m\u001b[0m\u001b[0m\n\u001b[0m\u001b[1;32m   1457\u001b[0m \u001b[0;34m\u001b[0m\u001b[0m\n\u001b[1;32m   1458\u001b[0m                 \u001b[0mend_optimizer\u001b[0m \u001b[0;34m=\u001b[0m \u001b[0mtime\u001b[0m\u001b[0;34m.\u001b[0m\u001b[0mtime\u001b[0m\u001b[0;34m(\u001b[0m\u001b[0;34m)\u001b[0m\u001b[0;34m\u001b[0m\u001b[0m\n",
      "\u001b[0;32m/Users/jarana/anaconda/lib/python3.5/site-packages/theano/gof/opt.py\u001b[0m in \u001b[0;36m__call__\u001b[0;34m(self, fgraph)\u001b[0m\n\u001b[1;32m     99\u001b[0m \u001b[0;34m\u001b[0m\u001b[0m\n\u001b[1;32m    100\u001b[0m         \"\"\"\n\u001b[0;32m--> 101\u001b[0;31m         \u001b[0;32mreturn\u001b[0m \u001b[0mself\u001b[0m\u001b[0;34m.\u001b[0m\u001b[0moptimize\u001b[0m\u001b[0;34m(\u001b[0m\u001b[0mfgraph\u001b[0m\u001b[0;34m)\u001b[0m\u001b[0;34m\u001b[0m\u001b[0m\n\u001b[0m\u001b[1;32m    102\u001b[0m \u001b[0;34m\u001b[0m\u001b[0m\n\u001b[1;32m    103\u001b[0m     \u001b[0;32mdef\u001b[0m \u001b[0madd_requirements\u001b[0m\u001b[0;34m(\u001b[0m\u001b[0mself\u001b[0m\u001b[0;34m,\u001b[0m \u001b[0mfgraph\u001b[0m\u001b[0;34m)\u001b[0m\u001b[0;34m:\u001b[0m\u001b[0;34m\u001b[0m\u001b[0m\n",
      "\u001b[0;32m/Users/jarana/anaconda/lib/python3.5/site-packages/theano/gof/opt.py\u001b[0m in \u001b[0;36moptimize\u001b[0;34m(self, fgraph, *args, **kwargs)\u001b[0m\n\u001b[1;32m     87\u001b[0m             \u001b[0morig\u001b[0m \u001b[0;34m=\u001b[0m \u001b[0mtheano\u001b[0m\u001b[0;34m.\u001b[0m\u001b[0mtensor\u001b[0m\u001b[0;34m.\u001b[0m\u001b[0mbasic\u001b[0m\u001b[0;34m.\u001b[0m\u001b[0mconstant\u001b[0m\u001b[0;34m.\u001b[0m\u001b[0menable\u001b[0m\u001b[0;34m\u001b[0m\u001b[0m\n\u001b[1;32m     88\u001b[0m             \u001b[0mtheano\u001b[0m\u001b[0;34m.\u001b[0m\u001b[0mtensor\u001b[0m\u001b[0;34m.\u001b[0m\u001b[0mbasic\u001b[0m\u001b[0;34m.\u001b[0m\u001b[0mconstant\u001b[0m\u001b[0;34m.\u001b[0m\u001b[0menable\u001b[0m \u001b[0;34m=\u001b[0m \u001b[0;32mFalse\u001b[0m\u001b[0;34m\u001b[0m\u001b[0m\n\u001b[0;32m---> 89\u001b[0;31m             \u001b[0mret\u001b[0m \u001b[0;34m=\u001b[0m \u001b[0mself\u001b[0m\u001b[0;34m.\u001b[0m\u001b[0mapply\u001b[0m\u001b[0;34m(\u001b[0m\u001b[0mfgraph\u001b[0m\u001b[0;34m,\u001b[0m \u001b[0;34m*\u001b[0m\u001b[0margs\u001b[0m\u001b[0;34m,\u001b[0m \u001b[0;34m**\u001b[0m\u001b[0mkwargs\u001b[0m\u001b[0;34m)\u001b[0m\u001b[0;34m\u001b[0m\u001b[0m\n\u001b[0m\u001b[1;32m     90\u001b[0m         \u001b[0;32mfinally\u001b[0m\u001b[0;34m:\u001b[0m\u001b[0;34m\u001b[0m\u001b[0m\n\u001b[1;32m     91\u001b[0m             \u001b[0mtheano\u001b[0m\u001b[0;34m.\u001b[0m\u001b[0mtensor\u001b[0m\u001b[0;34m.\u001b[0m\u001b[0mbasic\u001b[0m\u001b[0;34m.\u001b[0m\u001b[0mconstant\u001b[0m\u001b[0;34m.\u001b[0m\u001b[0menable\u001b[0m \u001b[0;34m=\u001b[0m \u001b[0morig\u001b[0m\u001b[0;34m\u001b[0m\u001b[0m\n",
      "\u001b[0;32m/Users/jarana/anaconda/lib/python3.5/site-packages/theano/gof/opt.py\u001b[0m in \u001b[0;36mapply\u001b[0;34m(self, fgraph)\u001b[0m\n\u001b[1;32m    228\u001b[0m             \u001b[0;32mtry\u001b[0m\u001b[0;34m:\u001b[0m\u001b[0;34m\u001b[0m\u001b[0m\n\u001b[1;32m    229\u001b[0m                 \u001b[0mt0\u001b[0m \u001b[0;34m=\u001b[0m \u001b[0mtime\u001b[0m\u001b[0;34m.\u001b[0m\u001b[0mtime\u001b[0m\u001b[0;34m(\u001b[0m\u001b[0;34m)\u001b[0m\u001b[0;34m\u001b[0m\u001b[0m\n\u001b[0;32m--> 230\u001b[0;31m                 \u001b[0msub_prof\u001b[0m \u001b[0;34m=\u001b[0m \u001b[0moptimizer\u001b[0m\u001b[0;34m.\u001b[0m\u001b[0moptimize\u001b[0m\u001b[0;34m(\u001b[0m\u001b[0mfgraph\u001b[0m\u001b[0;34m)\u001b[0m\u001b[0;34m\u001b[0m\u001b[0m\n\u001b[0m\u001b[1;32m    231\u001b[0m                 \u001b[0ml\u001b[0m\u001b[0;34m.\u001b[0m\u001b[0mappend\u001b[0m\u001b[0;34m(\u001b[0m\u001b[0mfloat\u001b[0m\u001b[0;34m(\u001b[0m\u001b[0mtime\u001b[0m\u001b[0;34m.\u001b[0m\u001b[0mtime\u001b[0m\u001b[0;34m(\u001b[0m\u001b[0;34m)\u001b[0m \u001b[0;34m-\u001b[0m \u001b[0mt0\u001b[0m\u001b[0;34m)\u001b[0m\u001b[0;34m)\u001b[0m\u001b[0;34m\u001b[0m\u001b[0m\n\u001b[1;32m    232\u001b[0m                 \u001b[0msub_profs\u001b[0m\u001b[0;34m.\u001b[0m\u001b[0mappend\u001b[0m\u001b[0;34m(\u001b[0m\u001b[0msub_prof\u001b[0m\u001b[0;34m)\u001b[0m\u001b[0;34m\u001b[0m\u001b[0m\n",
      "\u001b[0;32m/Users/jarana/anaconda/lib/python3.5/site-packages/theano/gof/opt.py\u001b[0m in \u001b[0;36moptimize\u001b[0;34m(self, fgraph, *args, **kwargs)\u001b[0m\n\u001b[1;32m     87\u001b[0m             \u001b[0morig\u001b[0m \u001b[0;34m=\u001b[0m \u001b[0mtheano\u001b[0m\u001b[0;34m.\u001b[0m\u001b[0mtensor\u001b[0m\u001b[0;34m.\u001b[0m\u001b[0mbasic\u001b[0m\u001b[0;34m.\u001b[0m\u001b[0mconstant\u001b[0m\u001b[0;34m.\u001b[0m\u001b[0menable\u001b[0m\u001b[0;34m\u001b[0m\u001b[0m\n\u001b[1;32m     88\u001b[0m             \u001b[0mtheano\u001b[0m\u001b[0;34m.\u001b[0m\u001b[0mtensor\u001b[0m\u001b[0;34m.\u001b[0m\u001b[0mbasic\u001b[0m\u001b[0;34m.\u001b[0m\u001b[0mconstant\u001b[0m\u001b[0;34m.\u001b[0m\u001b[0menable\u001b[0m \u001b[0;34m=\u001b[0m \u001b[0;32mFalse\u001b[0m\u001b[0;34m\u001b[0m\u001b[0m\n\u001b[0;32m---> 89\u001b[0;31m             \u001b[0mret\u001b[0m \u001b[0;34m=\u001b[0m \u001b[0mself\u001b[0m\u001b[0;34m.\u001b[0m\u001b[0mapply\u001b[0m\u001b[0;34m(\u001b[0m\u001b[0mfgraph\u001b[0m\u001b[0;34m,\u001b[0m \u001b[0;34m*\u001b[0m\u001b[0margs\u001b[0m\u001b[0;34m,\u001b[0m \u001b[0;34m**\u001b[0m\u001b[0mkwargs\u001b[0m\u001b[0;34m)\u001b[0m\u001b[0;34m\u001b[0m\u001b[0m\n\u001b[0m\u001b[1;32m     90\u001b[0m         \u001b[0;32mfinally\u001b[0m\u001b[0;34m:\u001b[0m\u001b[0;34m\u001b[0m\u001b[0m\n\u001b[1;32m     91\u001b[0m             \u001b[0mtheano\u001b[0m\u001b[0;34m.\u001b[0m\u001b[0mtensor\u001b[0m\u001b[0;34m.\u001b[0m\u001b[0mbasic\u001b[0m\u001b[0;34m.\u001b[0m\u001b[0mconstant\u001b[0m\u001b[0;34m.\u001b[0m\u001b[0menable\u001b[0m \u001b[0;34m=\u001b[0m \u001b[0morig\u001b[0m\u001b[0;34m\u001b[0m\u001b[0m\n",
      "\u001b[0;32m/Users/jarana/anaconda/lib/python3.5/site-packages/theano/gof/opt.py\u001b[0m in \u001b[0;36mapply\u001b[0;34m(self, fgraph, start_from)\u001b[0m\n\u001b[1;32m   2203\u001b[0m                         \u001b[0mchanged\u001b[0m \u001b[0;34m=\u001b[0m \u001b[0;32mTrue\u001b[0m\u001b[0;34m\u001b[0m\u001b[0m\n\u001b[1;32m   2204\u001b[0m                         \u001b[0mnode_created\u001b[0m\u001b[0;34m[\u001b[0m\u001b[0mlopt\u001b[0m\u001b[0;34m]\u001b[0m \u001b[0;34m+=\u001b[0m \u001b[0mchange_tracker\u001b[0m\u001b[0;34m.\u001b[0m\u001b[0mnb_imported\u001b[0m \u001b[0;34m-\u001b[0m \u001b[0mnb\u001b[0m\u001b[0;34m\u001b[0m\u001b[0m\n\u001b[0;32m-> 2205\u001b[0;31m                         \u001b[0mchanged\u001b[0m \u001b[0;34m|=\u001b[0m \u001b[0mapply_cleanup\u001b[0m\u001b[0;34m(\u001b[0m\u001b[0miter_cleanup_sub_profs\u001b[0m\u001b[0;34m)\u001b[0m\u001b[0;34m\u001b[0m\u001b[0m\n\u001b[0m\u001b[1;32m   2206\u001b[0m                         \u001b[0;32mif\u001b[0m \u001b[0mglobal_process_count\u001b[0m\u001b[0;34m[\u001b[0m\u001b[0mlopt\u001b[0m\u001b[0;34m]\u001b[0m \u001b[0;34m>\u001b[0m \u001b[0mmax_use\u001b[0m\u001b[0;34m:\u001b[0m\u001b[0;34m\u001b[0m\u001b[0m\n\u001b[1;32m   2207\u001b[0m                             \u001b[0mmax_use_abort\u001b[0m \u001b[0;34m=\u001b[0m \u001b[0;32mTrue\u001b[0m\u001b[0;34m\u001b[0m\u001b[0m\n",
      "\u001b[0;32m/Users/jarana/anaconda/lib/python3.5/site-packages/theano/gof/opt.py\u001b[0m in \u001b[0;36mapply_cleanup\u001b[0;34m(profs_dict)\u001b[0m\n\u001b[1;32m   2117\u001b[0m                 \u001b[0mnb\u001b[0m \u001b[0;34m=\u001b[0m \u001b[0mchange_tracker\u001b[0m\u001b[0;34m.\u001b[0m\u001b[0mnb_imported\u001b[0m\u001b[0;34m\u001b[0m\u001b[0m\n\u001b[1;32m   2118\u001b[0m                 \u001b[0mt_opt\u001b[0m \u001b[0;34m=\u001b[0m \u001b[0mtime\u001b[0m\u001b[0;34m.\u001b[0m\u001b[0mtime\u001b[0m\u001b[0;34m(\u001b[0m\u001b[0;34m)\u001b[0m\u001b[0;34m\u001b[0m\u001b[0m\n\u001b[0;32m-> 2119\u001b[0;31m                 \u001b[0msub_prof\u001b[0m \u001b[0;34m=\u001b[0m \u001b[0mcopt\u001b[0m\u001b[0;34m.\u001b[0m\u001b[0mapply\u001b[0m\u001b[0;34m(\u001b[0m\u001b[0mfgraph\u001b[0m\u001b[0;34m)\u001b[0m\u001b[0;34m\u001b[0m\u001b[0m\n\u001b[0m\u001b[1;32m   2120\u001b[0m                 \u001b[0mtime_opts\u001b[0m\u001b[0;34m[\u001b[0m\u001b[0mcopt\u001b[0m\u001b[0;34m]\u001b[0m \u001b[0;34m+=\u001b[0m \u001b[0mtime\u001b[0m\u001b[0;34m.\u001b[0m\u001b[0mtime\u001b[0m\u001b[0;34m(\u001b[0m\u001b[0;34m)\u001b[0m \u001b[0;34m-\u001b[0m \u001b[0mt_opt\u001b[0m\u001b[0;34m\u001b[0m\u001b[0m\n\u001b[1;32m   2121\u001b[0m                 \u001b[0mprofs_dict\u001b[0m\u001b[0;34m[\u001b[0m\u001b[0mcopt\u001b[0m\u001b[0;34m]\u001b[0m\u001b[0;34m.\u001b[0m\u001b[0mappend\u001b[0m\u001b[0;34m(\u001b[0m\u001b[0msub_prof\u001b[0m\u001b[0;34m)\u001b[0m\u001b[0;34m\u001b[0m\u001b[0m\n",
      "\u001b[0;32m/Users/jarana/anaconda/lib/python3.5/site-packages/theano/gof/opt.py\u001b[0m in \u001b[0;36mapply\u001b[0;34m(self, fgraph)\u001b[0m\n\u001b[1;32m    815\u001b[0m \u001b[0;34m\u001b[0m\u001b[0m\n\u001b[1;32m    816\u001b[0m                 \u001b[0;32mtry\u001b[0m\u001b[0;34m:\u001b[0m\u001b[0;34m\u001b[0m\u001b[0m\n\u001b[0;32m--> 817\u001b[0;31m                     \u001b[0mfgraph\u001b[0m\u001b[0;34m.\u001b[0m\u001b[0mreplace_all_validate\u001b[0m\u001b[0;34m(\u001b[0m\u001b[0mpairs\u001b[0m\u001b[0;34m,\u001b[0m \u001b[0;34m'MergeOptimizer'\u001b[0m\u001b[0;34m)\u001b[0m\u001b[0;34m\u001b[0m\u001b[0m\n\u001b[0m\u001b[1;32m    818\u001b[0m                 \u001b[0;32mexcept\u001b[0m \u001b[0mInconsistencyError\u001b[0m\u001b[0;34m:\u001b[0m\u001b[0;34m\u001b[0m\u001b[0m\n\u001b[1;32m    819\u001b[0m                     \u001b[0msuccess\u001b[0m \u001b[0;34m=\u001b[0m \u001b[0;32mFalse\u001b[0m\u001b[0;34m\u001b[0m\u001b[0m\n",
      "\u001b[0;32m/Users/jarana/anaconda/lib/python3.5/site-packages/theano/gof/toolbox.py\u001b[0m in \u001b[0;36mreplace_all_validate\u001b[0;34m(self, fgraph, replacements, reason, verbose)\u001b[0m\n\u001b[1;32m    307\u001b[0m         \u001b[0;32mfor\u001b[0m \u001b[0mr\u001b[0m\u001b[0;34m,\u001b[0m \u001b[0mnew_r\u001b[0m \u001b[0;32min\u001b[0m \u001b[0mreplacements\u001b[0m\u001b[0;34m:\u001b[0m\u001b[0;34m\u001b[0m\u001b[0m\n\u001b[1;32m    308\u001b[0m             \u001b[0;32mtry\u001b[0m\u001b[0;34m:\u001b[0m\u001b[0;34m\u001b[0m\u001b[0m\n\u001b[0;32m--> 309\u001b[0;31m                 \u001b[0mfgraph\u001b[0m\u001b[0;34m.\u001b[0m\u001b[0mreplace\u001b[0m\u001b[0;34m(\u001b[0m\u001b[0mr\u001b[0m\u001b[0;34m,\u001b[0m \u001b[0mnew_r\u001b[0m\u001b[0;34m,\u001b[0m \u001b[0mreason\u001b[0m\u001b[0;34m=\u001b[0m\u001b[0mreason\u001b[0m\u001b[0;34m,\u001b[0m \u001b[0mverbose\u001b[0m\u001b[0;34m=\u001b[0m\u001b[0;32mFalse\u001b[0m\u001b[0;34m)\u001b[0m\u001b[0;34m\u001b[0m\u001b[0m\n\u001b[0m\u001b[1;32m    310\u001b[0m             \u001b[0;32mexcept\u001b[0m \u001b[0mException\u001b[0m \u001b[0;32mas\u001b[0m \u001b[0me\u001b[0m\u001b[0;34m:\u001b[0m\u001b[0;34m\u001b[0m\u001b[0m\n\u001b[1;32m    311\u001b[0m                 \u001b[0mmsg\u001b[0m \u001b[0;34m=\u001b[0m \u001b[0mstr\u001b[0m\u001b[0;34m(\u001b[0m\u001b[0me\u001b[0m\u001b[0;34m)\u001b[0m\u001b[0;34m\u001b[0m\u001b[0m\n",
      "\u001b[0;32m/Users/jarana/anaconda/lib/python3.5/site-packages/theano/gof/fg.py\u001b[0m in \u001b[0;36mreplace\u001b[0;34m(self, r, new_r, reason, verbose)\u001b[0m\n\u001b[1;32m    587\u001b[0m         \u001b[0;32mfor\u001b[0m \u001b[0mnode\u001b[0m\u001b[0;34m,\u001b[0m \u001b[0mi\u001b[0m \u001b[0;32min\u001b[0m \u001b[0mlist\u001b[0m\u001b[0;34m(\u001b[0m\u001b[0mr\u001b[0m\u001b[0;34m.\u001b[0m\u001b[0mclients\u001b[0m\u001b[0;34m)\u001b[0m\u001b[0;34m:\u001b[0m  \u001b[0;31m# copy the client list for iteration\u001b[0m\u001b[0;34m\u001b[0m\u001b[0m\n\u001b[1;32m    588\u001b[0m             \u001b[0;32massert\u001b[0m \u001b[0;34m(\u001b[0m\u001b[0mnode\u001b[0m \u001b[0;34m==\u001b[0m \u001b[0;34m'output'\u001b[0m \u001b[0;32mand\u001b[0m \u001b[0mself\u001b[0m\u001b[0;34m.\u001b[0m\u001b[0moutputs\u001b[0m\u001b[0;34m[\u001b[0m\u001b[0mi\u001b[0m\u001b[0;34m]\u001b[0m \u001b[0;32mis\u001b[0m \u001b[0mr\u001b[0m\u001b[0;34m)\u001b[0m \u001b[0;32mor\u001b[0m \u001b[0;34m(\u001b[0m\u001b[0mnode\u001b[0m\u001b[0;34m.\u001b[0m\u001b[0minputs\u001b[0m\u001b[0;34m[\u001b[0m\u001b[0mi\u001b[0m\u001b[0;34m]\u001b[0m \u001b[0;32mis\u001b[0m \u001b[0mr\u001b[0m\u001b[0;34m)\u001b[0m\u001b[0;34m\u001b[0m\u001b[0m\n\u001b[0;32m--> 589\u001b[0;31m             \u001b[0mself\u001b[0m\u001b[0;34m.\u001b[0m\u001b[0mchange_input\u001b[0m\u001b[0;34m(\u001b[0m\u001b[0mnode\u001b[0m\u001b[0;34m,\u001b[0m \u001b[0mi\u001b[0m\u001b[0;34m,\u001b[0m \u001b[0mnew_r\u001b[0m\u001b[0;34m,\u001b[0m \u001b[0mreason\u001b[0m\u001b[0;34m=\u001b[0m\u001b[0mreason\u001b[0m\u001b[0;34m)\u001b[0m\u001b[0;34m\u001b[0m\u001b[0m\n\u001b[0m\u001b[1;32m    590\u001b[0m \u001b[0;34m\u001b[0m\u001b[0m\n\u001b[1;32m    591\u001b[0m         \u001b[0;31m# sometimes the following is triggered.  If you understand why, please explain to James.\u001b[0m\u001b[0;34m\u001b[0m\u001b[0;34m\u001b[0m\u001b[0m\n",
      "\u001b[0;32m/Users/jarana/anaconda/lib/python3.5/site-packages/theano/gof/fg.py\u001b[0m in \u001b[0;36mchange_input\u001b[0;34m(self, node, i, new_r, reason)\u001b[0m\n\u001b[1;32m    534\u001b[0m                                r, new_r, reason=reason)\n\u001b[1;32m    535\u001b[0m         \u001b[0;32mif\u001b[0m \u001b[0mprune\u001b[0m\u001b[0;34m:\u001b[0m\u001b[0;34m\u001b[0m\u001b[0m\n\u001b[0;32m--> 536\u001b[0;31m             \u001b[0mself\u001b[0m\u001b[0;34m.\u001b[0m\u001b[0m__remove_clients__\u001b[0m\u001b[0;34m(\u001b[0m\u001b[0mr\u001b[0m\u001b[0;34m,\u001b[0m \u001b[0;34m[\u001b[0m\u001b[0;34m]\u001b[0m\u001b[0;34m,\u001b[0m \u001b[0;32mTrue\u001b[0m\u001b[0;34m)\u001b[0m\u001b[0;34m\u001b[0m\u001b[0m\n\u001b[0m\u001b[1;32m    537\u001b[0m \u001b[0;34m\u001b[0m\u001b[0m\n\u001b[1;32m    538\u001b[0m     \u001b[0;31m# replace #\u001b[0m\u001b[0;34m\u001b[0m\u001b[0;34m\u001b[0m\u001b[0m\n",
      "\u001b[0;32m/Users/jarana/anaconda/lib/python3.5/site-packages/theano/gof/fg.py\u001b[0m in \u001b[0;36m__remove_clients__\u001b[0;34m(self, r, clients_to_remove, prune, reason)\u001b[0m\n\u001b[1;32m    320\u001b[0m                 \u001b[0mself\u001b[0m\u001b[0;34m.\u001b[0m\u001b[0mapply_nodes\u001b[0m\u001b[0;34m.\u001b[0m\u001b[0mremove\u001b[0m\u001b[0;34m(\u001b[0m\u001b[0mapply_node\u001b[0m\u001b[0;34m)\u001b[0m\u001b[0;34m\u001b[0m\u001b[0m\n\u001b[1;32m    321\u001b[0m                 \u001b[0mself\u001b[0m\u001b[0;34m.\u001b[0m\u001b[0mvariables\u001b[0m\u001b[0;34m.\u001b[0m\u001b[0mdifference_update\u001b[0m\u001b[0;34m(\u001b[0m\u001b[0mapply_node\u001b[0m\u001b[0;34m.\u001b[0m\u001b[0moutputs\u001b[0m\u001b[0;34m)\u001b[0m\u001b[0;34m\u001b[0m\u001b[0m\n\u001b[0;32m--> 322\u001b[0;31m                 \u001b[0mself\u001b[0m\u001b[0;34m.\u001b[0m\u001b[0mexecute_callbacks\u001b[0m\u001b[0;34m(\u001b[0m\u001b[0;34m'on_prune'\u001b[0m\u001b[0;34m,\u001b[0m \u001b[0mapply_node\u001b[0m\u001b[0;34m,\u001b[0m \u001b[0mreason\u001b[0m\u001b[0;34m)\u001b[0m\u001b[0;34m\u001b[0m\u001b[0m\n\u001b[0m\u001b[1;32m    323\u001b[0m \u001b[0;34m\u001b[0m\u001b[0m\n\u001b[1;32m    324\u001b[0m                 \u001b[0;32mfor\u001b[0m \u001b[0mi\u001b[0m\u001b[0;34m,\u001b[0m \u001b[0minput\u001b[0m \u001b[0;32min\u001b[0m \u001b[0menumerate\u001b[0m\u001b[0;34m(\u001b[0m\u001b[0mapply_node\u001b[0m\u001b[0;34m.\u001b[0m\u001b[0minputs\u001b[0m\u001b[0;34m)\u001b[0m\u001b[0;34m:\u001b[0m\u001b[0;34m\u001b[0m\u001b[0m\n",
      "\u001b[0;32m/Users/jarana/anaconda/lib/python3.5/site-packages/theano/gof/fg.py\u001b[0m in \u001b[0;36mexecute_callbacks\u001b[0;34m(self, name, *args, **kwargs)\u001b[0m\n\u001b[1;32m    671\u001b[0m                 \u001b[0;32mcontinue\u001b[0m\u001b[0;34m\u001b[0m\u001b[0m\n\u001b[1;32m    672\u001b[0m             \u001b[0mtf0\u001b[0m \u001b[0;34m=\u001b[0m \u001b[0mtime\u001b[0m\u001b[0;34m.\u001b[0m\u001b[0mtime\u001b[0m\u001b[0;34m(\u001b[0m\u001b[0;34m)\u001b[0m\u001b[0;34m\u001b[0m\u001b[0m\n\u001b[0;32m--> 673\u001b[0;31m             \u001b[0mfn\u001b[0m\u001b[0;34m(\u001b[0m\u001b[0mself\u001b[0m\u001b[0;34m,\u001b[0m \u001b[0;34m*\u001b[0m\u001b[0margs\u001b[0m\u001b[0;34m,\u001b[0m \u001b[0;34m**\u001b[0m\u001b[0mkwargs\u001b[0m\u001b[0;34m)\u001b[0m\u001b[0;34m\u001b[0m\u001b[0m\n\u001b[0m\u001b[1;32m    674\u001b[0m             \u001b[0mself\u001b[0m\u001b[0;34m.\u001b[0m\u001b[0mexecute_callbacks_times\u001b[0m\u001b[0;34m[\u001b[0m\u001b[0mfeature\u001b[0m\u001b[0;34m]\u001b[0m \u001b[0;34m+=\u001b[0m \u001b[0mtime\u001b[0m\u001b[0;34m.\u001b[0m\u001b[0mtime\u001b[0m\u001b[0;34m(\u001b[0m\u001b[0;34m)\u001b[0m \u001b[0;34m-\u001b[0m \u001b[0mtf0\u001b[0m\u001b[0;34m\u001b[0m\u001b[0m\n\u001b[1;32m    675\u001b[0m         \u001b[0mself\u001b[0m\u001b[0;34m.\u001b[0m\u001b[0mexecute_callbacks_time\u001b[0m \u001b[0;34m+=\u001b[0m \u001b[0mtime\u001b[0m\u001b[0;34m.\u001b[0m\u001b[0mtime\u001b[0m\u001b[0;34m(\u001b[0m\u001b[0;34m)\u001b[0m \u001b[0;34m-\u001b[0m \u001b[0mt0\u001b[0m\u001b[0;34m\u001b[0m\u001b[0m\n",
      "\u001b[0;32m/Users/jarana/anaconda/lib/python3.5/site-packages/theano/gof/opt.py\u001b[0m in \u001b[0;36mon_prune\u001b[0;34m(self, fgraph, node, reason)\u001b[0m\n\u001b[1;32m   1598\u001b[0m     \u001b[0;32mdef\u001b[0m \u001b[0mon_prune\u001b[0m\u001b[0;34m(\u001b[0m\u001b[0mself\u001b[0m\u001b[0;34m,\u001b[0m \u001b[0mfgraph\u001b[0m\u001b[0;34m,\u001b[0m \u001b[0mnode\u001b[0m\u001b[0;34m,\u001b[0m \u001b[0mreason\u001b[0m\u001b[0;34m)\u001b[0m\u001b[0;34m:\u001b[0m\u001b[0;34m\u001b[0m\u001b[0m\n\u001b[1;32m   1599\u001b[0m         \u001b[0;32mif\u001b[0m \u001b[0mself\u001b[0m\u001b[0;34m.\u001b[0m\u001b[0mpruner\u001b[0m\u001b[0;34m:\u001b[0m\u001b[0;34m\u001b[0m\u001b[0m\n\u001b[0;32m-> 1600\u001b[0;31m             \u001b[0mself\u001b[0m\u001b[0;34m.\u001b[0m\u001b[0mpruner\u001b[0m\u001b[0;34m(\u001b[0m\u001b[0mnode\u001b[0m\u001b[0;34m)\u001b[0m\u001b[0;34m\u001b[0m\u001b[0m\n\u001b[0m\u001b[1;32m   1601\u001b[0m \u001b[0;34m\u001b[0m\u001b[0m\n\u001b[1;32m   1602\u001b[0m     \u001b[0;32mdef\u001b[0m \u001b[0mon_change_input\u001b[0m\u001b[0;34m(\u001b[0m\u001b[0mself\u001b[0m\u001b[0;34m,\u001b[0m \u001b[0mfgraph\u001b[0m\u001b[0;34m,\u001b[0m \u001b[0mnode\u001b[0m\u001b[0;34m,\u001b[0m \u001b[0mi\u001b[0m\u001b[0;34m,\u001b[0m \u001b[0mr\u001b[0m\u001b[0;34m,\u001b[0m \u001b[0mnew_r\u001b[0m\u001b[0;34m,\u001b[0m \u001b[0mreason\u001b[0m\u001b[0;34m)\u001b[0m\u001b[0;34m:\u001b[0m\u001b[0;34m\u001b[0m\u001b[0m\n",
      "\u001b[0;32m/Users/jarana/anaconda/lib/python3.5/site-packages/theano/gof/opt.py\u001b[0m in \u001b[0;36mpruner\u001b[0;34m(node)\u001b[0m\n\u001b[1;32m   2179\u001b[0m                 \u001b[0;32mif\u001b[0m \u001b[0mnode\u001b[0m \u001b[0;32mis\u001b[0m \u001b[0;32mnot\u001b[0m \u001b[0mcurrent_node\u001b[0m\u001b[0;34m:\u001b[0m\u001b[0;34m\u001b[0m\u001b[0m\n\u001b[1;32m   2180\u001b[0m                     \u001b[0;32mtry\u001b[0m\u001b[0;34m:\u001b[0m\u001b[0;34m\u001b[0m\u001b[0m\n\u001b[0;32m-> 2181\u001b[0;31m                         \u001b[0mq\u001b[0m\u001b[0;34m.\u001b[0m\u001b[0mremove\u001b[0m\u001b[0;34m(\u001b[0m\u001b[0mnode\u001b[0m\u001b[0;34m)\u001b[0m\u001b[0;34m\u001b[0m\u001b[0m\n\u001b[0m\u001b[1;32m   2182\u001b[0m                     \u001b[0;32mexcept\u001b[0m \u001b[0mValueError\u001b[0m\u001b[0;34m:\u001b[0m\u001b[0;34m\u001b[0m\u001b[0m\n\u001b[1;32m   2183\u001b[0m                         \u001b[0;32mpass\u001b[0m\u001b[0;34m\u001b[0m\u001b[0m\n",
      "\u001b[0;31mKeyboardInterrupt\u001b[0m: "
     ]
    }
   ],
   "source": [
    "def rnn_triplet_loss(X):\n",
    "\n",
    "    positive_item_latent, negative_item_latent, user_latent, pos_user_temporal_latent,neg_user_temporal_latent, pos_user_temporal_bw_embedding,neg_user_temporal_bw_embedding = X\n",
    "    \n",
    "    \n",
    "#   TODO if user_temporal_latent[0][0] == [0,,,,,0] ignore, else sum all loss\n",
    "\n",
    "    loss = 0\n",
    "#     for t in range(WINDOW):\n",
    "    loss = (1 - K.sigmoid(\n",
    "            K.sum(( pos_user_temporal_bw_embedding + pos_user_temporal_latent + user_latent) * positive_item_latent, axis=-1, keepdims=True) -\n",
    "            K.sum(( neg_user_temporal_bw_embedding + neg_user_temporal_latent + user_latent) * negative_item_latent, axis=-1, keepdims=True)))\n",
    "    \n",
    "    \n",
    "    \n",
    "    return loss\n",
    "\n",
    "\n",
    "\n",
    "def rnn_predict(model,user_temporal_embedding_layer,uid, pids, t):\n",
    "\n",
    "    user_vector = model.get_layer('user_embedding').get_weights()[0][uid]\n",
    "    item_matrix = model.get_layer('item_embedding').get_weights()[0][pids]\n",
    "    user_temporal_vector = user_temporal_embedding_layer.predict(pos[uid].reshape(1,WINDOW))[0][t]\n",
    "    user_temporal_bw_vector = user_temporal_embedding_layer_bw.predict(pos[uid].reshape(1,WINDOW))[0][t]\n",
    "\n",
    "\n",
    "    scores = (np.dot(user_vector+user_temporal_vector+user_temporal_bw_vector,\n",
    "                     item_matrix.T))\n",
    "\n",
    "    return scores\n",
    "\n",
    "\n",
    "\n",
    "\n",
    "\n",
    "\n",
    "# Shared embedding layer for positive and negative items\n",
    "item_embedding_layer = Embedding(\n",
    "    vNum+1, latent_dim, name='item_embedding', input_length=WINDOW)\n",
    "\n",
    "lstm = SimpleRNN(latent_dim, return_sequences=True)\n",
    "\n",
    "lstm_bw = SimpleRNN(latent_dim, return_sequences=True, go_backwards= True)\n",
    "\n",
    "#     user_temporal_embedding_layer = lstm\n",
    "user_temporal_embedding_layer = Sequential(name=\"user_temporal_embedding\")\n",
    "user_temporal_embedding_layer.add(item_embedding_layer)\n",
    "user_temporal_embedding_layer.add(lstm)\n",
    "\n",
    "user_temporal_embedding_layer_bw = Sequential(name=\"user_temporal_bw_embedding\")\n",
    "user_temporal_embedding_layer_bw.add(item_embedding_layer)\n",
    "user_temporal_embedding_layer_bw.add(lstm_bw)\n",
    "\n",
    "\n",
    "positive_item_input = Input((WINDOW, ), name='positive_item_input')\n",
    "negative_item_input = Input((WINDOW, ), name='negative_item_input')\n",
    "user_input = Input((WINDOW, ), name='user_input')\n",
    "\n",
    "\n",
    "\n",
    "positive_item_embedding = Flatten()(item_embedding_layer(positive_item_input))\n",
    "negative_item_embedding = Flatten()(item_embedding_layer(negative_item_input))\n",
    "\n",
    "\n",
    "#     positive_item_embedding = (item_embedding_layer(positive_item_input))\n",
    "#     negative_item_embedding = (item_embedding_layer(negative_item_input))\n",
    "\n",
    "\n",
    "user_embedding = Flatten()(Embedding(\n",
    "    uNum, latent_dim, name='user_embedding', input_length=1)(\n",
    "        user_input))\n",
    "\n",
    "\n",
    "pos_user_temporal_embedding = Flatten()(user_temporal_embedding_layer(positive_item_input))\n",
    "neg_user_temporal_embedding = Flatten()(user_temporal_embedding_layer(negative_item_input))\n",
    "\n",
    "pos_user_temporal_bw_embedding = Flatten()(user_temporal_embedding_layer_bw(positive_item_input))\n",
    "neg_user_temporal_bw_embedding = Flatten()(user_temporal_embedding_layer_bw(negative_item_input))\n",
    "\n",
    "loss = merge(\n",
    "    [positive_item_embedding, negative_item_embedding, user_embedding,pos_user_temporal_embedding,neg_user_temporal_embedding,pos_user_temporal_bw_embedding,neg_user_temporal_bw_embedding],\n",
    "    mode=rnn_triplet_loss,\n",
    "    name='loss',\n",
    "    output_shape=(WINDOW, ))\n",
    "\n",
    "rnn = Model(\n",
    "    input=[positive_item_input, negative_item_input, user_input],\n",
    "    output=[loss])\n",
    "rnn.compile(loss=identity_loss, optimizer=Adam())\n",
    "# rnn.compile(loss=identity_loss, optimizer=SGD(lr=0.0001))\n",
    "    \n",
    "\n",
    "u_input = []\n",
    "for u in range(uNum):\n",
    "    ut = []\n",
    "    for i in range(WINDOW):\n",
    "        ut.append(u)\n",
    "    u_input.append(ut)\n",
    "u_input = np.array(u_input)\n",
    "\n",
    "for epoch in range(100):\n",
    "    \n",
    "    print(datetime.datetime.now())\n",
    "    print('Epoch %s' % epoch)\n",
    "    \n",
    "    \n",
    "    \n",
    "    \n",
    "    X = {\n",
    "        'positive_item_input': pos,\n",
    "        'negative_item_input': neg,\n",
    "        'user_input' : u_input\n",
    "    }\n",
    "\n",
    "    rnn.fit(X,\n",
    "              np.ones(uNum),\n",
    "              batch_size=uNum,\n",
    "              nb_epoch=1,\n",
    "              verbose=1,\n",
    "              shuffle=True)\n",
    "#     print('AUC %s' % full_auc(rnn,user_temporal_embedding_layer, tuv_test))"
   ]
  },
  {
   "cell_type": "code",
   "execution_count": 79,
   "metadata": {
    "collapsed": false
   },
   "outputs": [
    {
     "name": "stdout",
     "output_type": "stream",
     "text": [
      "2017-03-20 13:27:31.981487\n",
      "Epoch 1/1\n",
      "34796/34796 [==============================] - 0s - loss: 0.4998\n",
      "Epoch 1/1\n",
      "34796/34796 [==============================] - 0s - loss: 0.4998\n",
      "Epoch 1/1\n",
      "34796/34796 [==============================] - 0s - loss: 0.4998\n",
      "Epoch 1/1\n",
      "34796/34796 [==============================] - 0s - loss: 0.4998\n",
      "Epoch 1/1\n",
      "34796/34796 [==============================] - 0s - loss: 0.4998\n",
      "Epoch 1/1\n",
      "34796/34796 [==============================] - 0s - loss: 0.4998\n",
      "Epoch 1/1\n",
      "34796/34796 [==============================] - 0s - loss: 0.4998\n",
      "Epoch 1/1\n",
      "34796/34796 [==============================] - 0s - loss: 0.4998\n",
      "Epoch 1/1\n",
      "34796/34796 [==============================] - 0s - loss: 0.4998\n",
      "Epoch 1/1\n",
      "34796/34796 [==============================] - 0s - loss: 0.4998\n",
      "Epoch 1/1\n",
      "34796/34796 [==============================] - 0s - loss: 0.4998\n",
      "Epoch 1/1\n",
      "34796/34796 [==============================] - 0s - loss: 0.4998\n",
      "Epoch 1/1\n",
      "34796/34796 [==============================] - 0s - loss: 0.4998\n",
      "Epoch 1/1\n",
      "34796/34796 [==============================] - 0s - loss: 0.4998\n",
      "Epoch 1/1\n",
      "34796/34796 [==============================] - 0s - loss: 0.4998\n",
      "Epoch 1/1\n",
      "34796/34796 [==============================] - 0s - loss: 0.4998\n",
      "Epoch 1/1\n",
      "34796/34796 [==============================] - 0s - loss: 0.4998\n",
      "Epoch 1/1\n",
      "34796/34796 [==============================] - 0s - loss: 0.4998\n",
      "Epoch 1/1\n",
      "34796/34796 [==============================] - 0s - loss: 0.4998\n",
      "Epoch 1/1\n",
      "34796/34796 [==============================] - 0s - loss: 0.4998\n",
      "Epoch 1/1\n",
      "34796/34796 [==============================] - 0s - loss: 0.4998\n",
      "Epoch 1/1\n",
      "34796/34796 [==============================] - 0s - loss: 0.4998\n",
      "Epoch 1/1\n",
      "34796/34796 [==============================] - 0s - loss: 0.4998\n",
      "Epoch 1/1\n",
      "34796/34796 [==============================] - 0s - loss: 0.4998\n",
      "Epoch 1/1\n",
      "34796/34796 [==============================] - 0s - loss: 0.4998\n",
      "Epoch 1/1\n",
      "34796/34796 [==============================] - 0s - loss: 0.4998\n",
      "Epoch 1/1\n",
      "34796/34796 [==============================] - 0s - loss: 0.4998\n",
      "Epoch 1/1\n",
      "34796/34796 [==============================] - 0s - loss: 0.4998\n",
      "Epoch 1/1\n",
      "34796/34796 [==============================] - 0s - loss: 0.4998\n",
      "Epoch 1/1\n",
      "34796/34796 [==============================] - 0s - loss: 0.4998\n",
      "Epoch 1/1\n",
      "34796/34796 [==============================] - 0s - loss: 0.4998\n",
      "Epoch 1/1\n",
      "34796/34796 [==============================] - 0s - loss: 0.4998\n",
      "Epoch 1/1\n",
      "34796/34796 [==============================] - 0s - loss: 0.4998\n",
      "Epoch 1/1\n",
      "34796/34796 [==============================] - 0s - loss: 0.4998\n",
      "Epoch 1/1\n",
      "34796/34796 [==============================] - 0s - loss: 0.4998\n",
      "Epoch 1/1\n",
      "34796/34796 [==============================] - 0s - loss: 0.4998\n",
      "Epoch 1/1\n",
      "34796/34796 [==============================] - 0s - loss: 0.4998\n",
      "Epoch 1/1\n",
      "34796/34796 [==============================] - 0s - loss: 0.4998\n",
      "Epoch 1/1\n",
      "34796/34796 [==============================] - 0s - loss: 0.4998\n",
      "Epoch 1/1\n",
      "34796/34796 [==============================] - 0s - loss: 0.4998\n",
      "Epoch 1/1\n",
      "34796/34796 [==============================] - 0s - loss: 0.4998\n",
      "Epoch 1/1\n",
      "34796/34796 [==============================] - 0s - loss: 0.4998\n",
      "Epoch 1/1\n",
      "34796/34796 [==============================] - 0s - loss: 0.4998\n",
      "Epoch 1/1\n",
      "34796/34796 [==============================] - 0s - loss: 0.4998\n",
      "Epoch 1/1\n",
      "34796/34796 [==============================] - 0s - loss: 0.4998\n",
      "Epoch 1/1\n",
      "34796/34796 [==============================] - 0s - loss: 0.4998\n",
      "Epoch 1/1\n",
      "34796/34796 [==============================] - 0s - loss: 0.4998\n",
      "Epoch 1/1\n",
      "34796/34796 [==============================] - 0s - loss: 0.4998\n",
      "Epoch 1/1\n",
      "34796/34796 [==============================] - 0s - loss: 0.4998\n",
      "Epoch 1/1\n",
      "34796/34796 [==============================] - 0s - loss: 0.4998\n",
      "Epoch 1/1\n",
      "34796/34796 [==============================] - 0s - loss: 0.4998\n",
      "Epoch 1/1\n",
      "34796/34796 [==============================] - 0s - loss: 0.4998\n",
      "Epoch 1/1\n",
      "34796/34796 [==============================] - 0s - loss: 0.4998\n",
      "Epoch 1/1\n",
      "34796/34796 [==============================] - 0s - loss: 0.4998\n",
      "Epoch 1/1\n",
      "34796/34796 [==============================] - 0s - loss: 0.4998\n",
      "Epoch 1/1\n",
      "34796/34796 [==============================] - 0s - loss: 0.4998\n",
      "Epoch 1/1\n",
      "34796/34796 [==============================] - 0s - loss: 0.4998\n",
      "Epoch 1/1\n",
      "34796/34796 [==============================] - 0s - loss: 0.4998\n",
      "Epoch 1/1\n",
      "34796/34796 [==============================] - 0s - loss: 0.4998\n",
      "Epoch 1/1\n",
      "34796/34796 [==============================] - 0s - loss: 0.4998\n",
      "Epoch 1/1\n",
      "34796/34796 [==============================] - 0s - loss: 0.4998\n",
      "Epoch 1/1\n",
      "34796/34796 [==============================] - 0s - loss: 0.4998\n",
      "Epoch 1/1\n",
      "34796/34796 [==============================] - 0s - loss: 0.4998\n",
      "Epoch 1/1\n",
      "34796/34796 [==============================] - 0s - loss: 0.4998\n",
      "Epoch 1/1\n",
      "34796/34796 [==============================] - 0s - loss: 0.4998\n",
      "Epoch 1/1\n",
      "34796/34796 [==============================] - 0s - loss: 0.4998\n",
      "Epoch 1/1\n",
      "34796/34796 [==============================] - 0s - loss: 0.4998\n",
      "Epoch 1/1\n",
      "34796/34796 [==============================] - 0s - loss: 0.4998\n",
      "Epoch 1/1\n",
      "34796/34796 [==============================] - 0s - loss: 0.4998\n",
      "Epoch 1/1\n",
      "34796/34796 [==============================] - 0s - loss: 0.4998\n",
      "Epoch 1/1\n",
      "34796/34796 [==============================] - 0s - loss: 0.4998\n",
      "Epoch 1/1\n",
      "34796/34796 [==============================] - 0s - loss: 0.4998\n",
      "Epoch 1/1\n",
      "34796/34796 [==============================] - 0s - loss: 0.4998\n",
      "Epoch 1/1\n",
      "34796/34796 [==============================] - 0s - loss: 0.4998\n",
      "Epoch 1/1\n",
      "34796/34796 [==============================] - 0s - loss: 0.4998\n",
      "Epoch 1/1\n",
      "34796/34796 [==============================] - 0s - loss: 0.4998\n",
      "Epoch 1/1\n",
      "34796/34796 [==============================] - 0s - loss: 0.4998\n",
      "Epoch 1/1\n",
      "34796/34796 [==============================] - 0s - loss: 0.4998\n",
      "Epoch 1/1\n",
      "34796/34796 [==============================] - 0s - loss: 0.4998\n",
      "Epoch 1/1\n",
      "34796/34796 [==============================] - 0s - loss: 0.4998\n",
      "Epoch 1/1\n",
      "34796/34796 [==============================] - 0s - loss: 0.4998\n",
      "Epoch 1/1\n",
      "34796/34796 [==============================] - 0s - loss: 0.4998\n",
      "Epoch 1/1\n",
      "34796/34796 [==============================] - 0s - loss: 0.4998\n",
      "Epoch 1/1\n",
      "34796/34796 [==============================] - 0s - loss: 0.4998\n",
      "Epoch 1/1\n",
      "34796/34796 [==============================] - 0s - loss: 0.4998\n",
      "Epoch 1/1\n",
      "34796/34796 [==============================] - 0s - loss: 0.4998\n",
      "Epoch 1/1\n",
      "34796/34796 [==============================] - 0s - loss: 0.4998\n",
      "Epoch 1/1\n",
      "34796/34796 [==============================] - 0s - loss: 0.4998\n",
      "Epoch 1/1\n",
      "34796/34796 [==============================] - 0s - loss: 0.4998\n",
      "Epoch 1/1\n",
      "34796/34796 [==============================] - 0s - loss: 0.4998\n",
      "Epoch 1/1\n",
      "34796/34796 [==============================] - 0s - loss: 0.4998\n",
      "Epoch 1/1\n",
      "34796/34796 [==============================] - 0s - loss: 0.4998\n",
      "Epoch 1/1\n",
      "34796/34796 [==============================] - 0s - loss: 0.4998\n",
      "Epoch 1/1\n",
      "34796/34796 [==============================] - 0s - loss: 0.4998\n",
      "Epoch 1/1\n",
      "34796/34796 [==============================] - 0s - loss: 0.4998\n",
      "Epoch 1/1\n",
      "34796/34796 [==============================] - 0s - loss: 0.4998\n",
      "Epoch 1/1\n",
      "34796/34796 [==============================] - 0s - loss: 0.4998\n",
      "Epoch 1/1\n",
      "34796/34796 [==============================] - 0s - loss: 0.4998\n",
      "Epoch 1/1\n",
      "34796/34796 [==============================] - 0s - loss: 0.4998\n",
      "Epoch 1/1\n",
      "34796/34796 [==============================] - 0s - loss: 0.4998\n",
      "AUC, P@10, NDCG, MAP 0.516373812255 0.000185185185185 0.00014518197959 0.000152887098798\n"
     ]
    }
   ],
   "source": [
    "\"\"\"\n",
    "Triplet loss network example for recommenders\n",
    "\"\"\"\n",
    "\n",
    "from __future__ import print_function\n",
    "\n",
    "import numpy as np\n",
    "random.seed(1234)\n",
    "import scipy.sparse as sp\n",
    "import pandas as pd\n",
    "from keras import backend as K\n",
    "from keras.models import Model\n",
    "from keras.layers import Embedding, Flatten, Input, merge\n",
    "from keras.optimizers import Adam,SGD\n",
    "import metrics\n",
    "from keras.regularizers import l2, activity_l2\n",
    "import datetime\n",
    "\n",
    "\n",
    "def identity_loss(y_true, y_pred):\n",
    "\n",
    "    return K.mean(y_pred - 0 * y_true)\n",
    "\n",
    "\n",
    "# def identity_loss(y_true, y_pred):\n",
    "\n",
    "#     return K.mean(y_pred - 0 * y_true)\n",
    "\n",
    "def bpr_triplet_loss(X):\n",
    "\n",
    "    positive_item_latent, negative_item_latent, user_latent = X\n",
    "    \n",
    "    reg = 0.001 *(K.sum(user_latent**2, axis=-1, keepdims=True) + K.sum(positive_item_latent**2, axis=-1, keepdims=True) + K.sum(negative_item_latent**2, axis=-1, keepdims=True))\n",
    "    \n",
    "    \n",
    "    # BPR loss\n",
    "    loss = 1 - K.sigmoid(\n",
    "        K.sum(user_latent * positive_item_latent, axis=-1, keepdims=True) -\n",
    "        K.sum(user_latent * negative_item_latent, axis=-1, keepdims=True)) - reg\n",
    "\n",
    "#     loss = K.log(K.sigmoid(K.dot(user_latent, K.transpose(positive_item_latent)) - K.dot(user_latent, K.transpose(negative_item_latent)))) - reg\n",
    "#     loss = 1 - K.sigmoid(\n",
    "#             K.sum(user_latent * positive_item_latent, axis=-1, keepdims=True) -\n",
    "#             K.sum(user_latent * negative_item_latent, axis=-1, keepdims=True))\n",
    "\n",
    "    \n",
    "#     loss = K.sum(K.log(K.sigmoid(user_latent * positive_item_latent - user_latent * negative_item_latent)), axis=-1, keepdims=True) + reg\n",
    "    \n",
    "    return loss\n",
    "\n",
    "# BPR\n",
    "def bpr_predict(model, uid, pids):\n",
    "\n",
    "    user_vector = model.get_layer('user_embedding').get_weights()[0][uid]\n",
    "    item_matrix = model.get_layer('item_embedding').get_weights()[0][pids]\n",
    "    \n",
    "    scores = (np.dot(user_vector,\n",
    "                     item_matrix.T))\n",
    "\n",
    "    return scores\n",
    "\n",
    "\n",
    "def build_model(uNum, vNum, latent_dim):\n",
    "\n",
    "        # Shared embedding layer for positive and negative items\n",
    "    item_embedding_layer = Embedding(\n",
    "        vNum, latent_dim, name='item_embedding', input_length=WINDOW)\n",
    "    \n",
    "#     ,W_regularizer=l2(0.01)\n",
    "\n",
    "\n",
    "    positive_item_input = Input((WINDOW, ), name='positive_item_input')\n",
    "    negative_item_input = Input((WINDOW, ), name='negative_item_input')\n",
    "    user_input = Input((WINDOW, ), name='user_input')\n",
    "\n",
    "\n",
    "    positive_item_embedding = Flatten()(item_embedding_layer(positive_item_input))\n",
    "    negative_item_embedding = Flatten()(item_embedding_layer(negative_item_input))\n",
    "\n",
    "\n",
    "    user_embedding = Flatten()(Embedding(\n",
    "        uNum, latent_dim, name='user_embedding', input_length=1)(\n",
    "            user_input))\n",
    "\n",
    "\n",
    "\n",
    "    loss = merge(\n",
    "        [positive_item_embedding, negative_item_embedding, user_embedding],\n",
    "        mode=bpr_triplet_loss,\n",
    "        name='loss',\n",
    "        output_shape=(WINDOW, ))\n",
    "\n",
    "    model = Model(\n",
    "        input=[positive_item_input, negative_item_input, user_input],\n",
    "        output=[loss])\n",
    "    model.compile(loss=identity_loss, optimizer=SGD())\n",
    "#     model.compile(loss=identity_loss, optimizer=Adam())\n",
    "    return model\n",
    "\n",
    "\n",
    "bpr = build_model(uNum+1, vNum+1, latent_dim)\n",
    "print(datetime.datetime.now())\n",
    "u_input = []\n",
    "for u in range(uNum):\n",
    "    ut = []\n",
    "    for i in range(WINDOW):\n",
    "        ut.append(u)\n",
    "    u_input.append(ut)\n",
    "u_input = np.array(u_input)\n",
    "\n",
    "for epoch in range(100):\n",
    "    \n",
    "#     print('Epoch %s' % epoch)\n",
    "\n",
    "#     pos,neg = DataParser.generate_train_pairs(tuv)\n",
    "\n",
    "\n",
    "    \n",
    "    X = {\n",
    "        'positive_item_input': pos,\n",
    "        'negative_item_input': neg,\n",
    "        'user_input' : u_input\n",
    "    }\n",
    "\n",
    "    bpr.fit(X,\n",
    "              np.ones(uNum),\n",
    "              batch_size=uNum,\n",
    "              nb_epoch=1,\n",
    "              verbose=1,\n",
    "              shuffle=True)\n",
    "print('AUC, P@10, NDCG, MAP %s %s %s %s' % evaluation(tuv_test, \"bpr\"))"
   ]
  },
  {
   "cell_type": "code",
   "execution_count": 63,
   "metadata": {
    "collapsed": false
   },
   "outputs": [
    {
     "ename": "NameError",
     "evalue": "name 'filename' is not defined",
     "output_type": "error",
     "traceback": [
      "\u001b[0;31m---------------------------------------------------------------------------\u001b[0m",
      "\u001b[0;31mNameError\u001b[0m                                 Traceback (most recent call last)",
      "\u001b[0;32m<ipython-input-63-b14b845832e8>\u001b[0m in \u001b[0;36m<module>\u001b[0;34m()\u001b[0m\n\u001b[0;32m----> 1\u001b[0;31m \u001b[0mdf_test\u001b[0m \u001b[0;34m=\u001b[0m \u001b[0mpd\u001b[0m\u001b[0;34m.\u001b[0m\u001b[0mread_csv\u001b[0m\u001b[0;34m(\u001b[0m\u001b[0mfilename\u001b[0m\u001b[0;34m,\u001b[0m \u001b[0msep\u001b[0m\u001b[0;34m=\u001b[0m\u001b[0mseparater\u001b[0m\u001b[0;34m,\u001b[0m \u001b[0mnames\u001b[0m\u001b[0;34m=\u001b[0m\u001b[0mnames\u001b[0m\u001b[0;34m)\u001b[0m\u001b[0;34m\u001b[0m\u001b[0m\n\u001b[0m",
      "\u001b[0;31mNameError\u001b[0m: name 'filename' is not defined"
     ]
    }
   ],
   "source": [
    "df_test = pd.read_csv(filename, sep=separater, names=names)"
   ]
  },
  {
   "cell_type": "code",
   "execution_count": null,
   "metadata": {
    "collapsed": false
   },
   "outputs": [],
   "source": [
    "def build_tf_model(uNum, vNum, WINDOW, latent_dim):\n",
    "\n",
    "        # Shared embedding layer for positive and negative items\n",
    "    item_embedding_layer = Embedding(\n",
    "        vNum, latent_dim, name='item_embedding', input_length=WINDOW)\n",
    "\n",
    "\n",
    "    positive_item_input = Input((WINDOW, ), name='positive_item_input')\n",
    "    negative_item_input = Input((WINDOW, ), name='negative_item_input')\n",
    "    user_input = Input((WINDOW, ), name='user_input')\n",
    "\n",
    "\n",
    "    positive_item_embedding = Flatten()(item_embedding_layer(positive_item_input))\n",
    "    negative_item_embedding = Flatten()(item_embedding_layer(negative_item_input))\n",
    "\n",
    "\n",
    "    user_embedding = Flatten()(Embedding(\n",
    "        uNum, latent_dim, name='user_embedding', input_length=1)(\n",
    "            user_input))\n",
    "\n",
    "\n",
    "\n",
    "    loss = merge(\n",
    "        [positive_item_embedding, negative_item_embedding, user_embedding],\n",
    "        mode=bpr_triplet_loss,\n",
    "        name='loss',\n",
    "        output_shape=(WINDOW, ))\n",
    "\n",
    "    model = Model(\n",
    "        input=[positive_item_input, negative_item_input, user_input],\n",
    "        output=[loss])\n",
    "    model.compile(loss=identity_loss, optimizer=Adam())\n",
    "\n",
    "    return model"
   ]
  },
  {
   "cell_type": "code",
   "execution_count": 163,
   "metadata": {
    "collapsed": true
   },
   "outputs": [],
   "source": [
    "import numpy as np\n",
    "from keras.layers import Embedding, Reshape, Merge, Dropout, Dense\n",
    "from keras.models import Sequential\n",
    "\n",
    "class MF(Sequential):\n",
    "\n",
    "    def __init__(self, n_users, m_items, k_factors, **kwargs):\n",
    "        P = Sequential()\n",
    "        P.add(Embedding(n_users, k_factors, input_length=1, W_regularizer=l2(0.001)))\n",
    "        P.add(Reshape((k_factors,)))\n",
    "        Q = Sequential()\n",
    "        Q.add(Embedding(m_items, k_factors, input_length=1, W_regularizer=l2(0.001)))\n",
    "        Q.add(Reshape((k_factors,)))\n",
    "        super(CFModel, self).__init__(**kwargs)\n",
    "        self.add(Merge([P, Q], mode='dot', dot_axes=1))\n",
    "\n",
    "    def rate(self, user_id, item_id):\n",
    "        return self.predict([np.array([user_id]), np.array([item_id])])[0][0]\n",
    "    \n",
    "    def rank(self, user_id, venues):\n",
    "        u = np.random.rand(vNum)\n",
    "        u.fill(user_id)\n",
    "        return self.predict([u, venues])\n",
    "    "
   ]
  },
  {
   "cell_type": "code",
   "execution_count": null,
   "metadata": {
    "collapsed": false
   },
   "outputs": [],
   "source": [
    "tf = TF(uNum, vNum, WINDOW, latent_dim)\n",
    "tf.compile(loss='mse', optimizer=Adam())\n",
    "tf.fit([df.uid.values, df.vid.values, df.day.values], np.ones(len(df.uid.values)), verbose=1, nb_epoch=100, batch_size=100000)"
   ]
  },
  {
   "cell_type": "code",
   "execution_count": 164,
   "metadata": {
    "collapsed": false
   },
   "outputs": [
    {
     "data": {
      "text/plain": [
       "<keras.callbacks.History at 0x30d905f98>"
      ]
     },
     "execution_count": 164,
     "metadata": {},
     "output_type": "execute_result"
    }
   ],
   "source": [
    "mf = CFModel(uNum, vNum, latent_dim)\n",
    "mf.compile(loss='mse', optimizer=Adam())\n",
    "mf.fit([df.uid.values, df.vid.values], np.ones(len(df.uid.values)), verbose=0, nb_epoch=100, batch_size=100000)\n",
    "# mf.predict"
   ]
  },
  {
   "cell_type": "code",
   "execution_count": 272,
   "metadata": {
    "collapsed": true
   },
   "outputs": [],
   "source": [
    "def evaluation(ground_truth, mode):\n",
    "\n",
    "    scores = {\"p\":[], \"ndcg\":[], \"auc\":[], \"map\":[] }\n",
    "\n",
    "\n",
    "    for t in range(WINDOW):\n",
    "\n",
    "        ground = ground_truth[t].tocsr()\n",
    "\n",
    "        no_users, no_items = ground.shape\n",
    "\n",
    "        pid_array = np.arange(no_items, dtype=np.int32)\n",
    "\n",
    "        stop = 0\n",
    "        for user_id, row in enumerate(ground):\n",
    "            if mode == \"mf\":\n",
    "                usr = np.empty(vNum)\n",
    "                usr.fill(user_id)\n",
    "                predictions = mf.predict([usr, pid_array])\n",
    "            if mode == \"rnn\":\n",
    "                predictions = rnn_predict(rnn,user_temporal_embedding_layer, user_id, pid_array,t)\n",
    "            if mode == \"bpr\":\n",
    "                predictions = bpr_predict(bpr, user_id,pid_array)\n",
    "                \n",
    "            if mode == \"tf\":\n",
    "                usr = np.empty(vNum)\n",
    "                time = np.empty(vNum)\n",
    "                usr.fill(user_id)\n",
    "                time.fill(t)\n",
    "                predictions = tf.predict([usr, pid_array, time])\n",
    "                \n",
    "\n",
    "\n",
    "\n",
    "            true_pids = row.indices[row.data == 1]\n",
    "\n",
    "            grnd = np.zeros(no_items, dtype=np.int32)\n",
    "            grnd[true_pids] = 1\n",
    "            \n",
    "\n",
    "            if len(true_pids) > 0:\n",
    "                scores['auc'].append(roc_auc_score(grnd, predictions.reshape((vNum,))))\n",
    "                scores['map'].append(average_precision_score(grnd, predictions.reshape((vNum,))))\n",
    "                scores['p'].append(lm.ranking_precision_score(grnd, predictions.reshape((vNum,))))\n",
    "                scores['ndcg'].append(lm.ndcg_score(grnd, predictions.reshape((vNum,))))\n",
    "            \n",
    "            stop = stop +1\n",
    "#             print(stop)\n",
    "            if stop == 100:\n",
    "                break\n",
    "                \n",
    "\n",
    "\n",
    "#     print(datetime.datetime.now())\n",
    "    return sum(scores['auc']) / len(scores['auc']),sum(scores['p']) / len(scores['p']),sum(scores['ndcg']) / len(scores['ndcg']),sum(scores['map']) / len(scores['map'])"
   ]
  },
  {
   "cell_type": "code",
   "execution_count": 288,
   "metadata": {
    "collapsed": false
   },
   "outputs": [
    {
     "data": {
      "text/plain": [
       "(0.4996847146681565,\n",
       " 0.0012345679012345679,\n",
       " 0.00086403488602334352,\n",
       " 0.00031593478448919439)"
      ]
     },
     "execution_count": 288,
     "metadata": {},
     "output_type": "execute_result"
    }
   ],
   "source": [
    "# SGD with reg\n",
    "evaluation(tuv_test, \"bpr\")"
   ]
  },
  {
   "cell_type": "code",
   "execution_count": 296,
   "metadata": {
    "collapsed": false
   },
   "outputs": [
    {
     "data": {
      "text/plain": [
       "(0.91530710036097773,\n",
       " 0.049149029982363319,\n",
       " 0.047939434276729462,\n",
       " 0.028098317319904607)"
      ]
     },
     "execution_count": 296,
     "metadata": {},
     "output_type": "execute_result"
    }
   ],
   "source": [
    "# Adam with my reg\n",
    "evaluation(tuv_test, \"bpr\")"
   ]
  },
  {
   "cell_type": "code",
   "execution_count": 273,
   "metadata": {
    "collapsed": false
   },
   "outputs": [
    {
     "data": {
      "text/plain": [
       "(0.89528732135303157,\n",
       " 0.050240299823633157,\n",
       " 0.050797409636055751,\n",
       " 0.033277904978059665)"
      ]
     },
     "execution_count": 273,
     "metadata": {},
     "output_type": "execute_result"
    }
   ],
   "source": [
    "evaluation(tuv_test, \"bpr\")"
   ]
  },
  {
   "cell_type": "code",
   "execution_count": 161,
   "metadata": {
    "collapsed": false
   },
   "outputs": [
    {
     "data": {
      "text/plain": [
       "(0.89774425125291513,\n",
       " 0.015401234567901234,\n",
       " 0.012973438569239316,\n",
       " 0.011945292287429835)"
      ]
     },
     "execution_count": 161,
     "metadata": {},
     "output_type": "execute_result"
    }
   ],
   "source": [
    "evaluation(tuv_test, \"tf\")"
   ]
  },
  {
   "cell_type": "code",
   "execution_count": 165,
   "metadata": {
    "collapsed": false
   },
   "outputs": [
    {
     "data": {
      "text/plain": [
       "(0.8951780459764842, 0.0, 0.0, 0.0014938904625095384)"
      ]
     },
     "execution_count": 165,
     "metadata": {},
     "output_type": "execute_result"
    }
   ],
   "source": [
    "evaluation(tuv_test, \"mf\")"
   ]
  },
  {
   "cell_type": "code",
   "execution_count": null,
   "metadata": {
    "collapsed": false
   },
   "outputs": [],
   "source": [
    "from sklearn.metrics import precision_recall_fscore_support\n",
    "y_true = np.array(['cat', 'dog', 'pig', 'cat', 'dog', 'pig'])\n",
    "y_pred = np.array(['cat', 'pig', 'dog', 'cat', 'cat', 'dog'])\n",
    "precision_recall_fscore_support(y_true, y_pred, average='macro')"
   ]
  },
  {
   "cell_type": "code",
   "execution_count": null,
   "metadata": {
    "collapsed": false
   },
   "outputs": [],
   "source": [
    "a = df['hour'].apply(lambda x: x%6)"
   ]
  },
  {
   "cell_type": "code",
   "execution_count": null,
   "metadata": {
    "collapsed": false
   },
   "outputs": [],
   "source": [
    "df6 = df\n",
    "df6_test = df_test\n",
    "\n",
    "df6.loc[:,'hour'] %= 6\n",
    "df6_test.loc[:,'hour'] %= 6"
   ]
  },
  {
   "cell_type": "code",
   "execution_count": 111,
   "metadata": {
    "collapsed": false
   },
   "outputs": [],
   "source": [
    "class TF(Sequential):\n",
    "    def __init__(self, uNum, vNum, latent_dim, WINDOW, **kwargs):\n",
    "\n",
    "        def dot3D(x):\n",
    "            P, Q, T = x;\n",
    "            return K.sum(P * Q * T, axis=-1, keepdims=True);\n",
    "\n",
    "        P = Sequential()\n",
    "        P.add(Embedding(uNum, latent_dim, input_length=1, W_regularizer=l2(0.001)))\n",
    "        P.add(Reshape((latent_dim,)))\n",
    "        Q = Sequential()\n",
    "        Q.add(Embedding(vNum, latent_dim, input_length=1, W_regularizer=l2(0.001)))\n",
    "        Q.add(Reshape((latent_dim,)))\n",
    "        T = Sequential()\n",
    "        T.add(Embedding(WINDOW, latent_dim, input_length=1, W_regularizer=l2(0.001)))\n",
    "        T.add(Reshape((latent_dim,)))\n",
    "\n",
    "        super(TF, self).__init__(**kwargs)\n",
    "        self.add(Merge([P, Q, T], mode=dot3D, output_shape=[1,]))\n",
    "    "
   ]
  },
  {
   "cell_type": "code",
   "execution_count": 117,
   "metadata": {
    "collapsed": false
   },
   "outputs": [],
   "source": [
    "tf = TF(uNum, vNum, latent_dim, WINDOW)\n",
    "tf.compile(loss='mse', optimizer=Adam())"
   ]
  },
  {
   "cell_type": "code",
   "execution_count": 120,
   "metadata": {
    "collapsed": false
   },
   "outputs": [
    {
     "data": {
      "text/plain": [
       "<keras.callbacks.History at 0x30ea3d4a8>"
      ]
     },
     "execution_count": 120,
     "metadata": {},
     "output_type": "execute_result"
    }
   ],
   "source": [
    "tf.fit([df.uid, df.vid, df.day], np.ones(len(df)), nb_epoch=10, verbose=0, batch_size=100000)"
   ]
  },
  {
   "cell_type": "code",
   "execution_count": 144,
   "metadata": {
    "collapsed": false
   },
   "outputs": [
    {
     "data": {
      "text/plain": [
       "array([[ 0.80231273],\n",
       "       [ 0.99178833],\n",
       "       [ 0.97638017],\n",
       "       ..., \n",
       "       [ 0.00491236],\n",
       "       [ 0.05006572],\n",
       "       [ 0.45416552]], dtype=float32)"
      ]
     },
     "execution_count": 144,
     "metadata": {},
     "output_type": "execute_result"
    }
   ],
   "source": [
    "tf.predict([u, np.arange(vNum), t])"
   ]
  },
  {
   "cell_type": "code",
   "execution_count": 189,
   "metadata": {
    "collapsed": false
   },
   "outputs": [],
   "source": [
    "uv = sp.lil_matrix((uNum, vNum), dtype=np.int32)\n",
    "for u,v in zip(df.uid.values, df.vid.values):\n",
    "    uv[u,v] = 1"
   ]
  },
  {
   "cell_type": "code",
   "execution_count": 201,
   "metadata": {
    "collapsed": false
   },
   "outputs": [],
   "source": [
    "pair_u = []\n",
    "pair_i = []\n",
    "pair_j = []\n",
    "for u in range(uNum):\n",
    "    visited = uv[u].tocoo().col\n",
    "    for i in visited:\n",
    "        j = np.random.randint(vNum)\n",
    "        while j in visited:\n",
    "            j = np.random.randint(vNum)\n",
    "        pair_u.append(u)\n",
    "        pair_i.append(i)\n",
    "        pair_j.append(j)\n",
    "        \n",
    "pair_u = np.array(pair_u)\n",
    "pair_i = np.array(pair_i)\n",
    "pair_j = np.array(pair_j)"
   ]
  },
  {
   "cell_type": "code",
   "execution_count": 293,
   "metadata": {
    "collapsed": true
   },
   "outputs": [],
   "source": [
    "\n",
    "def identity_loss(y_true, y_pred):\n",
    "\n",
    "    return K.mean(y_pred - 0 * y_true)\n",
    "\n",
    "\n",
    "def bpr_triplet_loss(X):\n",
    "\n",
    "    positive_item_latent, negative_item_latent, user_latent = X\n",
    "    \n",
    "    reg = 0.001 * (K.sum(user_latent ** 2, axis=-1, keepdims=True) + K.sum(positive_item_latent ** 2, axis=-1,\n",
    "                                                                                   keepdims=True) + K.sum(\n",
    "                negative_item_latent ** 2, axis=-1, keepdims=True))\n",
    "\n",
    "    # BPR loss\n",
    "    loss = 1.0 - K.sigmoid(\n",
    "        K.sum(user_latent * positive_item_latent, axis=-1, keepdims=True) -\n",
    "        K.sum(user_latent * negative_item_latent, axis=-1, keepdims=True)) + reg\n",
    "\n",
    "    return loss\n",
    "\n",
    "def bpr_predict(model, uid, vids):\n",
    "\n",
    "    user_vector = model.get_layer('user_embedding').get_weights()[0][uid]\n",
    "    item_matrix = model.get_layer('item_embedding').get_weights()[0][vids]\n",
    "\n",
    "    scores = (np.dot(user_vector,\n",
    "                         item_matrix.T))\n",
    "\n",
    "    return scores\n",
    "\n",
    "\n",
    "def build_model(num_users, num_items, latent_dim):\n",
    "\n",
    "    positive_item_input = Input((1, ), name='positive_item_input')\n",
    "    negative_item_input = Input((1, ), name='negative_item_input')\n",
    "\n",
    "    # Shared embedding layer for positive and negative items\n",
    "    item_embedding_layer = Embedding(\n",
    "        num_items, latent_dim, name='item_embedding', input_length=1)\n",
    "\n",
    "    user_input = Input((1, ), name='user_input')\n",
    "\n",
    "    positive_item_embedding = Flatten()(item_embedding_layer(\n",
    "        positive_item_input))\n",
    "    negative_item_embedding = Flatten()(item_embedding_layer(\n",
    "        negative_item_input))\n",
    "    user_embedding = Flatten()(Embedding(\n",
    "        num_users, latent_dim, name='user_embedding', input_length=1)(\n",
    "            user_input))\n",
    "\n",
    "    loss = merge(\n",
    "        [positive_item_embedding, negative_item_embedding, user_embedding],\n",
    "        mode=bpr_triplet_loss,\n",
    "        name='loss',\n",
    "        output_shape=(1, ))\n",
    "\n",
    "    model = Model(\n",
    "        input=[positive_item_input, negative_item_input, user_input],\n",
    "        output=loss)\n",
    "    model.compile(loss=identity_loss, optimizer=Adam())\n",
    "\n",
    "    return model"
   ]
  },
  {
   "cell_type": "code",
   "execution_count": 294,
   "metadata": {
    "collapsed": true
   },
   "outputs": [],
   "source": [
    "bpr = build_model(uNum+1, vNum+1, 10)"
   ]
  },
  {
   "cell_type": "code",
   "execution_count": 295,
   "metadata": {
    "collapsed": false
   },
   "outputs": [
    {
     "name": "stdout",
     "output_type": "stream",
     "text": [
      "Epoch 1/100\n",
      "974739/974739 [==============================] - 1s - loss: 0.5000     \n",
      "Epoch 2/100\n",
      "974739/974739 [==============================] - 1s - loss: 0.4999     \n",
      "Epoch 3/100\n",
      "974739/974739 [==============================] - 1s - loss: 0.4999     \n",
      "Epoch 4/100\n",
      "974739/974739 [==============================] - 1s - loss: 0.4998     \n",
      "Epoch 5/100\n",
      "974739/974739 [==============================] - 1s - loss: 0.4996     \n",
      "Epoch 6/100\n",
      "974739/974739 [==============================] - 1s - loss: 0.4995     \n",
      "Epoch 7/100\n",
      "974739/974739 [==============================] - 1s - loss: 0.4993     \n",
      "Epoch 8/100\n",
      "974739/974739 [==============================] - 1s - loss: 0.4991     \n",
      "Epoch 9/100\n",
      "974739/974739 [==============================] - 1s - loss: 0.4988     \n",
      "Epoch 10/100\n",
      "974739/974739 [==============================] - 1s - loss: 0.4984     \n",
      "Epoch 11/100\n",
      "974739/974739 [==============================] - 1s - loss: 0.4978     \n",
      "Epoch 12/100\n",
      "974739/974739 [==============================] - 1s - loss: 0.4971     \n",
      "Epoch 13/100\n",
      "974739/974739 [==============================] - 1s - loss: 0.4960     \n",
      "Epoch 14/100\n",
      "974739/974739 [==============================] - 1s - loss: 0.4946     \n",
      "Epoch 15/100\n",
      "974739/974739 [==============================] - 1s - loss: 0.4929     \n",
      "Epoch 16/100\n",
      "974739/974739 [==============================] - 1s - loss: 0.4906     \n",
      "Epoch 17/100\n",
      "974739/974739 [==============================] - 1s - loss: 0.4878     \n",
      "Epoch 18/100\n",
      "974739/974739 [==============================] - 1s - loss: 0.4844     \n",
      "Epoch 19/100\n",
      "974739/974739 [==============================] - 1s - loss: 0.4805     \n",
      "Epoch 20/100\n",
      "974739/974739 [==============================] - 1s - loss: 0.4759     \n",
      "Epoch 21/100\n",
      "974739/974739 [==============================] - 1s - loss: 0.4706     \n",
      "Epoch 22/100\n",
      "974739/974739 [==============================] - 1s - loss: 0.4647     \n",
      "Epoch 23/100\n",
      "974739/974739 [==============================] - 1s - loss: 0.4582     \n",
      "Epoch 24/100\n",
      "974739/974739 [==============================] - 1s - loss: 0.4511     \n",
      "Epoch 25/100\n",
      "974739/974739 [==============================] - 1s - loss: 0.4434     \n",
      "Epoch 26/100\n",
      "974739/974739 [==============================] - 1s - loss: 0.4353     \n",
      "Epoch 27/100\n",
      "974739/974739 [==============================] - 1s - loss: 0.4268     \n",
      "Epoch 28/100\n",
      "974739/974739 [==============================] - 1s - loss: 0.4179     \n",
      "Epoch 29/100\n",
      "974739/974739 [==============================] - 1s - loss: 0.4087     \n",
      "Epoch 30/100\n",
      "974739/974739 [==============================] - 1s - loss: 0.3993     \n",
      "Epoch 31/100\n",
      "974739/974739 [==============================] - 1s - loss: 0.3898     \n",
      "Epoch 32/100\n",
      "974739/974739 [==============================] - 1s - loss: 0.3802     \n",
      "Epoch 33/100\n",
      "974739/974739 [==============================] - 1s - loss: 0.3706     \n",
      "Epoch 34/100\n",
      "974739/974739 [==============================] - 1s - loss: 0.3610     \n",
      "Epoch 35/100\n",
      "974739/974739 [==============================] - 1s - loss: 0.3516     \n",
      "Epoch 36/100\n",
      "974739/974739 [==============================] - 1s - loss: 0.3423     \n",
      "Epoch 37/100\n",
      "974739/974739 [==============================] - 1s - loss: 0.3331     \n",
      "Epoch 38/100\n",
      "974739/974739 [==============================] - 1s - loss: 0.3241     \n",
      "Epoch 39/100\n",
      "974739/974739 [==============================] - 1s - loss: 0.3154     \n",
      "Epoch 40/100\n",
      "974739/974739 [==============================] - 1s - loss: 0.3069     \n",
      "Epoch 41/100\n",
      "974739/974739 [==============================] - 1s - loss: 0.2986     \n",
      "Epoch 42/100\n",
      "974739/974739 [==============================] - 1s - loss: 0.2906     \n",
      "Epoch 43/100\n",
      "974739/974739 [==============================] - 1s - loss: 0.2828     \n",
      "Epoch 44/100\n",
      "974739/974739 [==============================] - 1s - loss: 0.2753     \n",
      "Epoch 45/100\n",
      "974739/974739 [==============================] - 1s - loss: 0.2681     \n",
      "Epoch 46/100\n",
      "974739/974739 [==============================] - 1s - loss: 0.2611     \n",
      "Epoch 47/100\n",
      "974739/974739 [==============================] - 1s - loss: 0.2544     \n",
      "Epoch 48/100\n",
      "974739/974739 [==============================] - 1s - loss: 0.2479     \n",
      "Epoch 49/100\n",
      "974739/974739 [==============================] - 1s - loss: 0.2416     \n",
      "Epoch 50/100\n",
      "974739/974739 [==============================] - 1s - loss: 0.2356     \n",
      "Epoch 51/100\n",
      "974739/974739 [==============================] - 1s - loss: 0.2298     \n",
      "Epoch 52/100\n",
      "974739/974739 [==============================] - 1s - loss: 0.2243     \n",
      "Epoch 53/100\n",
      "974739/974739 [==============================] - 1s - loss: 0.2189     \n",
      "Epoch 54/100\n",
      "974739/974739 [==============================] - 1s - loss: 0.2138     \n",
      "Epoch 55/100\n",
      "974739/974739 [==============================] - 1s - loss: 0.2088     \n",
      "Epoch 56/100\n",
      "974739/974739 [==============================] - 1s - loss: 0.2041     \n",
      "Epoch 57/100\n",
      "974739/974739 [==============================] - 1s - loss: 0.1995     \n",
      "Epoch 58/100\n",
      "974739/974739 [==============================] - 1s - loss: 0.1951     \n",
      "Epoch 59/100\n",
      "974739/974739 [==============================] - 1s - loss: 0.1908     \n",
      "Epoch 60/100\n",
      "974739/974739 [==============================] - 1s - loss: 0.1868     \n",
      "Epoch 61/100\n",
      "974739/974739 [==============================] - 1s - loss: 0.1828     \n",
      "Epoch 62/100\n",
      "974739/974739 [==============================] - 1s - loss: 0.1790     \n",
      "Epoch 63/100\n",
      "974739/974739 [==============================] - 1s - loss: 0.1754     \n",
      "Epoch 64/100\n",
      "974739/974739 [==============================] - 1s - loss: 0.1718     \n",
      "Epoch 65/100\n",
      "974739/974739 [==============================] - 1s - loss: 0.1684     \n",
      "Epoch 66/100\n",
      "974739/974739 [==============================] - 1s - loss: 0.1652     \n",
      "Epoch 67/100\n",
      "974739/974739 [==============================] - 1s - loss: 0.1620     \n",
      "Epoch 68/100\n",
      "974739/974739 [==============================] - 1s - loss: 0.1589     \n",
      "Epoch 69/100\n",
      "974739/974739 [==============================] - 1s - loss: 0.1560     \n",
      "Epoch 70/100\n",
      "974739/974739 [==============================] - 1s - loss: 0.1531     \n",
      "Epoch 71/100\n",
      "974739/974739 [==============================] - 1s - loss: 0.1504     \n",
      "Epoch 72/100\n",
      "974739/974739 [==============================] - 1s - loss: 0.1477     \n",
      "Epoch 73/100\n",
      "974739/974739 [==============================] - 1s - loss: 0.1451     \n",
      "Epoch 74/100\n",
      "974739/974739 [==============================] - 1s - loss: 0.1427     \n",
      "Epoch 75/100\n",
      "974739/974739 [==============================] - 1s - loss: 0.1402     \n",
      "Epoch 76/100\n",
      "974739/974739 [==============================] - 1s - loss: 0.1379     \n",
      "Epoch 77/100\n",
      "974739/974739 [==============================] - 1s - loss: 0.1356     \n",
      "Epoch 78/100\n",
      "974739/974739 [==============================] - 1s - loss: 0.1334     \n",
      "Epoch 79/100\n",
      "974739/974739 [==============================] - 1s - loss: 0.1313     \n",
      "Epoch 80/100\n",
      "974739/974739 [==============================] - 1s - loss: 0.1292     \n",
      "Epoch 81/100\n",
      "974739/974739 [==============================] - 1s - loss: 0.1272     \n",
      "Epoch 82/100\n",
      "974739/974739 [==============================] - 1s - loss: 0.1253     \n",
      "Epoch 83/100\n",
      "974739/974739 [==============================] - 1s - loss: 0.1234     \n",
      "Epoch 84/100\n",
      "974739/974739 [==============================] - 1s - loss: 0.1215     \n",
      "Epoch 85/100\n",
      "974739/974739 [==============================] - 1s - loss: 0.1198     \n",
      "Epoch 86/100\n",
      "974739/974739 [==============================] - 1s - loss: 0.1180     \n",
      "Epoch 87/100\n",
      "974739/974739 [==============================] - 1s - loss: 0.1163     \n",
      "Epoch 88/100\n",
      "974739/974739 [==============================] - 1s - loss: 0.1147     \n",
      "Epoch 89/100\n",
      "974739/974739 [==============================] - 1s - loss: 0.1131     \n",
      "Epoch 90/100\n",
      "974739/974739 [==============================] - 1s - loss: 0.1115     \n",
      "Epoch 91/100\n",
      "974739/974739 [==============================] - 1s - loss: 0.1100     \n",
      "Epoch 92/100\n",
      "974739/974739 [==============================] - 1s - loss: 0.1086     \n",
      "Epoch 93/100\n",
      "974739/974739 [==============================] - 1s - loss: 0.1071     \n",
      "Epoch 94/100\n",
      "974739/974739 [==============================] - 1s - loss: 0.1057     \n",
      "Epoch 95/100\n",
      "974739/974739 [==============================] - 1s - loss: 0.1044     \n",
      "Epoch 96/100\n",
      "974739/974739 [==============================] - 1s - loss: 0.1030     \n",
      "Epoch 97/100\n",
      "974739/974739 [==============================] - 1s - loss: 0.1017     \n",
      "Epoch 98/100\n",
      "974739/974739 [==============================] - 1s - loss: 0.1005     \n",
      "Epoch 99/100\n",
      "974739/974739 [==============================] - 1s - loss: 0.0992     \n",
      "Epoch 100/100\n",
      "974739/974739 [==============================] - 1s - loss: 0.0980     \n"
     ]
    },
    {
     "data": {
      "text/plain": [
       "<keras.callbacks.History at 0x115f0dcf8>"
      ]
     },
     "execution_count": 295,
     "metadata": {},
     "output_type": "execute_result"
    }
   ],
   "source": [
    "        \n",
    "X = {\n",
    "    'positive_item_input': pair_i,\n",
    "    'negative_item_input': pair_j,\n",
    "    'user_input' : pair_u\n",
    "}\n",
    "\n",
    "bpr.fit(X,\n",
    "          np.ones(pair_i.shape[0]),\n",
    "          batch_size=100000,\n",
    "          nb_epoch=100,\n",
    "          verbose=1,\n",
    "          shuffle=True)\n",
    "\n"
   ]
  },
  {
   "cell_type": "code",
   "execution_count": null,
   "metadata": {
    "collapsed": true
   },
   "outputs": [],
   "source": [
    "pair_u = []\n",
    "pair_i = []\n",
    "pair_j = []\n",
    "for u in range(uNum):\n",
    "    visited = uv[u].tocoo().col\n",
    "    for i in visited:\n",
    "        j = np.random.randint(vNum)\n",
    "        while j in visited:\n",
    "            j = np.random.randint(vNum)\n",
    "        pair_u.append(u)\n",
    "        pair_i.append(i)\n",
    "        pair_j.append(j)\n",
    "        \n",
    "pair_u = np.array(pair_u)\n",
    "pair_i = np.array(pair_i)\n",
    "pair_j = np.array(pair_j)"
   ]
  },
  {
   "cell_type": "code",
   "execution_count": 364,
   "metadata": {
    "collapsed": false
   },
   "outputs": [
    {
     "name": "stdout",
     "output_type": "stream",
     "text": [
      "[[   1.   76.    6. ...,   38.   51.   62.]\n",
      " [   6.   59.   69. ...,   55.   97.   37.]\n",
      " [  32.   71.   69. ...,   41.   77.   56.]\n",
      " ..., \n",
      " [ 245.  293.  286. ...,  438.  416.  413.]\n",
      " [ 299.  236.  120. ...,  434.  417.  414.]\n",
      " [ 221.  235.  121. ...,  205.  325.  415.]]\n",
      "[[ 107.    6.   87.   94.    1.   98.   84.]\n",
      " [   1.  106.   54.   99.    1.   38.   84.]\n",
      " [  56.   59.  105.  100.    1.   39.   92.]\n",
      " [  61.   76.  104.  111.    6.   86.  113.]\n",
      " [  55.   68.   39.    7.   91.   39.   62.]\n",
      " [  81.   60.   78.   64.   77.  116.   84.]\n",
      " [  56.   76.   54.  111.   91.  110.  113.]\n",
      " [ 405.  294.  286.  302.  370.  425.  255.]\n",
      " [ 118.  404.  286.  399.  354.  261.  406.]\n",
      " [ 295.  127.  462.  456.  112.  361.  155.]\n",
      " [ 150.  234.  288.  459.  283.  342.  415.]\n",
      " [ 239.  235.  444.  121.  454.  345.  153.]\n",
      " [ 298.  291.  137.  401.  134.  432.  259.]\n",
      " [ 221.  235.  121.  315.  205.  325.  415.]]\n",
      "[[[ 107.    6.   87.   94.    1.   98.   84.]\n",
      "  [   1.  106.   54.   99.    1.   38.   84.]\n",
      "  [  56.   59.  105.  100.    1.   39.   92.]\n",
      "  [  61.   76.  104.  111.    6.   86.  113.]\n",
      "  [  55.   68.   39.    7.   91.   39.   62.]\n",
      "  [  81.   60.   78.   64.   77.  116.   84.]\n",
      "  [  56.   76.   54.  111.   91.  110.  113.]]\n",
      "\n",
      " [[ 405.  294.  286.  302.  370.  425.  255.]\n",
      "  [ 118.  404.  286.  399.  354.  261.  406.]\n",
      "  [ 295.  127.  462.  456.  112.  361.  155.]\n",
      "  [ 150.  234.  288.  459.  283.  342.  415.]\n",
      "  [ 239.  235.  444.  121.  454.  345.  153.]\n",
      "  [ 298.  291.  137.  401.  134.  432.  259.]\n",
      "  [ 221.  235.  121.  315.  205.  325.  415.]]]\n"
     ]
    }
   ],
   "source": [
    "# for u,v,t in zip(df.uid, df.vid, df.hour):\n",
    "#     print(u,v,t)\n",
    "#     break\n",
    "rnn_pair_u = []\n",
    "rnn_pair_i = []\n",
    "rnn_pair_j = []\n",
    "rnn_last_pair = []\n",
    "\n",
    "def sampleNeg(visited, vNum):\n",
    "    j = np.random.randint(vNum)\n",
    "    while j in visited:\n",
    "        j = np.random.randint(vNum)\n",
    "    return j\n",
    "\n",
    "n = 0\n",
    "for u in range(uNum):\n",
    "    for t in range(WINDOW):\n",
    "        visited = tuv[t][u].tocoo().col\n",
    "        for i in visited:\n",
    "            pos = np.zeros(WINDOW)\n",
    "            neg = np.zeros(WINDOW)\n",
    "            pos[t] = i\n",
    "            neg[t] = sampleNeg(visited, vNum)\n",
    "            \n",
    "            for t2 in range(WINDOW):\n",
    "                if t == t2:\n",
    "                    continue\n",
    "                \n",
    "                visited2 = tuv[t2][u].tocoo().col\n",
    "                if(len(visited2) > 0):\n",
    "                    pos[t2] = random.choice(visited2)\n",
    "                    neg[t2] = sampleNeg(visited2, vNum)\n",
    "\n",
    "            u_ = np.zeros(WINDOW)\n",
    "            u_.fill(u)\n",
    "            rnn_pair_u.append(u_)\n",
    "            rnn_pair_i.append(pos)\n",
    "            rnn_pair_j.append(neg)\n",
    "        rnn_last_pair.append(pos)\n",
    "        \n",
    "    n = n +1\n",
    "    if n ==2:\n",
    "        break\n",
    "        \n",
    "rnn_pair_u = np.array(rnn_pair_u)\n",
    "rnn_pair_i = np.array(rnn_pair_i)\n",
    "rnn_pair_j = np.array(rnn_pair_j)\n",
    "rnn_last_pair = np.array(rnn_last_pair)\n",
    "\n",
    "print(rnn_pair_i)\n",
    "print(rnn_last_pair)\n",
    "print(rnn_last_pair.reshape((2,7,7)))"
   ]
  },
  {
   "cell_type": "code",
   "execution_count": 366,
   "metadata": {
    "collapsed": false
   },
   "outputs": [
    {
     "ename": "TypeError",
     "evalue": "sparse matrix length is ambiguous; use getnnz() or shape[0]",
     "output_type": "error",
     "traceback": [
      "\u001b[0;31m---------------------------------------------------------------------------\u001b[0m",
      "\u001b[0;31mTypeError\u001b[0m                                 Traceback (most recent call last)",
      "\u001b[0;32m<ipython-input-366-c277db1c9c09>\u001b[0m in \u001b[0;36m<module>\u001b[0;34m()\u001b[0m\n\u001b[1;32m      1\u001b[0m \u001b[0mnum_samples\u001b[0m \u001b[0;34m=\u001b[0m \u001b[0;36m0\u001b[0m\u001b[0;34m\u001b[0m\u001b[0m\n\u001b[1;32m      2\u001b[0m \u001b[0;32mfor\u001b[0m \u001b[0mt\u001b[0m \u001b[0;32min\u001b[0m \u001b[0mrange\u001b[0m\u001b[0;34m(\u001b[0m\u001b[0mWINDOW\u001b[0m\u001b[0;34m)\u001b[0m\u001b[0;34m:\u001b[0m\u001b[0;34m\u001b[0m\u001b[0m\n\u001b[0;32m----> 3\u001b[0;31m     \u001b[0mnum_samples\u001b[0m \u001b[0;34m=\u001b[0m \u001b[0mnum_samples\u001b[0m \u001b[0;34m+\u001b[0m \u001b[0mlen\u001b[0m\u001b[0;34m(\u001b[0m\u001b[0mtuv\u001b[0m\u001b[0;34m[\u001b[0m\u001b[0mt\u001b[0m\u001b[0;34m]\u001b[0m\u001b[0;34m)\u001b[0m\u001b[0;34m\u001b[0m\u001b[0m\n\u001b[0m\u001b[1;32m      4\u001b[0m \u001b[0mprint\u001b[0m\u001b[0;34m(\u001b[0m\u001b[0mnum_samples\u001b[0m\u001b[0;34m)\u001b[0m\u001b[0;34m\u001b[0m\u001b[0m\n",
      "\u001b[0;32m/Users/jarana/anaconda/lib/python3.5/site-packages/scipy/sparse/base.py\u001b[0m in \u001b[0;36m__len__\u001b[0;34m(self)\u001b[0m\n\u001b[1;32m    231\u001b[0m     \u001b[0;31m# non-zeros is more important.  For now, raise an exception!\u001b[0m\u001b[0;34m\u001b[0m\u001b[0;34m\u001b[0m\u001b[0m\n\u001b[1;32m    232\u001b[0m     \u001b[0;32mdef\u001b[0m \u001b[0m__len__\u001b[0m\u001b[0;34m(\u001b[0m\u001b[0mself\u001b[0m\u001b[0;34m)\u001b[0m\u001b[0;34m:\u001b[0m\u001b[0;34m\u001b[0m\u001b[0m\n\u001b[0;32m--> 233\u001b[0;31m         raise TypeError(\"sparse matrix length is ambiguous; use getnnz()\"\n\u001b[0m\u001b[1;32m    234\u001b[0m                         \" or shape[0]\")\n\u001b[1;32m    235\u001b[0m \u001b[0;34m\u001b[0m\u001b[0m\n",
      "\u001b[0;31mTypeError\u001b[0m: sparse matrix length is ambiguous; use getnnz() or shape[0]"
     ]
    }
   ],
   "source": [
    "num_samples = 0\n",
    "for t in range(WINDOW):\n",
    "    num_samples = num_samples + len(tuv[t])\n",
    "print(num_samples)"
   ]
  },
  {
   "cell_type": "code",
   "execution_count": 380,
   "metadata": {
    "collapsed": false
   },
   "outputs": [
    {
     "data": {
      "text/plain": [
       "149590"
      ]
     },
     "execution_count": 380,
     "metadata": {},
     "output_type": "execute_result"
    }
   ],
   "source": [
    "from scipy.sparse import csr_matrix\n",
    "\n",
    "tuv[0].nonzero()[0].shape[0]"
   ]
  },
  {
   "cell_type": "code",
   "execution_count": null,
   "metadata": {
    "collapsed": true
   },
   "outputs": [],
   "source": []
  }
 ],
 "metadata": {
  "anaconda-cloud": {},
  "kernelspec": {
   "display_name": "Python [conda root]",
   "language": "python",
   "name": "conda-root-py"
  },
  "language_info": {
   "codemirror_mode": {
    "name": "ipython",
    "version": 3
   },
   "file_extension": ".py",
   "mimetype": "text/x-python",
   "name": "python",
   "nbconvert_exporter": "python",
   "pygments_lexer": "ipython3",
   "version": "3.5.2"
  }
 },
 "nbformat": 4,
 "nbformat_minor": 0
}
