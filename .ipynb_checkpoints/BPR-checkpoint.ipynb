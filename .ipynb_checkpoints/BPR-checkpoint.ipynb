{
 "cells": [
  {
   "cell_type": "code",
   "execution_count": 1,
   "metadata": {
    "collapsed": false
   },
   "outputs": [
    {
     "name": "stderr",
     "output_type": "stream",
     "text": [
      "Using Theano backend.\n"
     ]
    }
   ],
   "source": [
    "\"\"\"\n",
    "Triplet loss network example for recommenders\n",
    "\"\"\"\n",
    "\n",
    "from __future__ import print_function\n",
    "\n",
    "import numpy as np\n",
    "import pandas as pd\n",
    "from keras import backend as K\n",
    "from keras.models import Model\n",
    "from keras.layers import Embedding, Flatten, Input, merge\n",
    "from keras.optimizers import Adam\n",
    "\n",
    "\n",
    "def identity_loss(y_true, y_pred):\n",
    "\n",
    "    return K.mean(y_pred - 0 * y_true)\n",
    "\n",
    "\n",
    "def bpr_triplet_loss(X):\n",
    "\n",
    "    positive_item_latent, negative_item_latent, user_latent = X\n",
    "\n",
    "    # BPR loss\n",
    "    loss = 1.0 - K.sigmoid(\n",
    "        K.sum(user_latent * positive_item_latent, axis=-1, keepdims=True) -\n",
    "        K.sum(user_latent * negative_item_latent, axis=-1, keepdims=True))\n",
    "\n",
    "    return loss\n",
    "\n",
    "\n",
    "def build_model(num_users, num_items, latent_dim):\n",
    "\n",
    "    positive_item_input = Input((1, ), name='positive_item_input')\n",
    "    negative_item_input = Input((1, ), name='negative_item_input')\n",
    "\n",
    "    # Shared embedding layer for positive and negative items\n",
    "    item_embedding_layer = Embedding(\n",
    "        num_items, latent_dim, name='item_embedding', input_length=1)\n",
    "\n",
    "    user_input = Input((1, ), name='user_input')\n",
    "\n",
    "    positive_item_embedding = Flatten()(item_embedding_layer(\n",
    "        positive_item_input))\n",
    "    negative_item_embedding = Flatten()(item_embedding_layer(\n",
    "        negative_item_input))\n",
    "    user_embedding = Flatten()(Embedding(\n",
    "        num_users, latent_dim, name='user_embedding', input_length=1)(\n",
    "            user_input))\n",
    "\n",
    "    loss = merge(\n",
    "        [positive_item_embedding, negative_item_embedding, user_embedding],\n",
    "        mode=bpr_triplet_loss,\n",
    "        name='loss',\n",
    "        output_shape=(1, ))\n",
    "\n",
    "    model = Model(\n",
    "        input=[positive_item_input, negative_item_input, user_input],\n",
    "        output=loss)\n",
    "    model.compile(loss=identity_loss, optimizer=Adam())\n",
    "    \n",
    "    \n",
    "\n",
    "    return model"
   ]
  },
  {
   "cell_type": "code",
   "execution_count": 23,
   "metadata": {
    "collapsed": false
   },
   "outputs": [
    {
     "name": "stdout",
     "output_type": "stream",
     "text": [
      "54315\n",
      "[   33    32     6 ..., 52850 55680 56753]\n"
     ]
    }
   ],
   "source": [
    "filename = 'gowallaTrain'\n",
    "separater = '\\t'\n",
    "names = ['uid','vid','hour','day','time']\n",
    "df = pd.read_csv(filename, sep=separater, names=names)\n",
    "uNum = df.uid.unique().max()\n",
    "vNum = df.vid.unique().max()\n",
    "gb = df.groupby('uid')    \n",
    "train = [gb.get_group(x) for x in gb.groups]\n",
    "\n",
    "filename = 'gowallaTest'\n",
    "df = pd.read_csv(filename, sep=separater, names=names)\n",
    "gb = df.groupby('uid') \n",
    "test = [gb.get_group(x) for x in gb.groups]\n"
   ]
  },
  {
   "cell_type": "code",
   "execution_count": null,
   "metadata": {
    "collapsed": true
   },
   "outputs": [],
   "source": [
    "def get_triplets(mat):\n",
    "    return mat.tocoo().row, mat.tocoo().col, np.random.randint(mat.shape[1], size=len(mat.tocoo().row))\n",
    "\n",
    "train = sp.lil_matrix((uNum, vNum), dtype=np.int32)\n",
    "test = sp.lil_matrix((uNum, vNum), dtype=np.int32)\n",
    "\n",
    "for user in range(uNum):\n",
    "    split_index = int(len(userCheckins[user])*0.8)\n",
    "    train_ = userCheckins[user][:split_index]\n",
    "    test_ = userCheckins[user][split_index:]\n",
    "    \n",
    "    for vid in train_.vid.values:\n",
    "        train[user,vid] = 1\n",
    "    for vid in test_.vid.values:\n",
    "        test[user,vid] = 1\n",
    "    "
   ]
  },
  {
   "cell_type": "code",
   "execution_count": null,
   "metadata": {
    "collapsed": true
   },
   "outputs": [],
   "source": [
    "latent_dim = 10\n",
    "num_epochs = 10\n",
    "\n",
    "model = build_model(uNum, vNum, latent_dim)\n",
    "\n",
    "# Print the model structure\n",
    "print(model.summary())"
   ]
  }
 ],
 "metadata": {
  "anaconda-cloud": {},
  "kernelspec": {
   "display_name": "Python [conda root]",
   "language": "python",
   "name": "conda-root-py"
  },
  "language_info": {
   "codemirror_mode": {
    "name": "ipython",
    "version": 3
   },
   "file_extension": ".py",
   "mimetype": "text/x-python",
   "name": "python",
   "nbconvert_exporter": "python",
   "pygments_lexer": "ipython3",
   "version": "3.5.2"
  }
 },
 "nbformat": 4,
 "nbformat_minor": 2
}
