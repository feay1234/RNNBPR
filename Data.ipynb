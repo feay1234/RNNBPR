{
 "cells": [
  {
   "cell_type": "code",
   "execution_count": 55,
   "metadata": {
    "collapsed": false
   },
   "outputs": [
    {
     "name": "stdout",
     "output_type": "stream",
     "text": [
      "sparsity  0.09%\n"
     ]
    }
   ],
   "source": [
    "import pandas as pd\n",
    "from datetime import datetime as dt\n",
    "\n",
    "def prep_data():\n",
    "    df = pd.read_csv(filename, sep=separater, names=names)\n",
    "    # covert time to datetime column\n",
    "    df['time'] = pd.to_datetime(df['time'])\n",
    "    # extract datetime to time window\n",
    "    df['day'] = df.time.dt.dayofweek\n",
    "    df['hour'] = df.time.dt.hour\n",
    "\n",
    "    # filtering user&venue with less than 10 check-ins\n",
    "    df = (df\n",
    "     .merge(df.groupby('vid').uid.nunique().reset_index().rename(columns={'uid': 'num_uniq_uid'}), on='vid', how='left'))\n",
    "    df = df[(df.num_uniq_uid >= 10) ]\n",
    "    df = (df.merge(df.groupby('uid').vid.nunique().reset_index().rename(columns={'vid': 'num_uniq_vid'}), on='uid', how='left'))\n",
    "    df = df[(df.num_uniq_vid >= 10) ]\n",
    "\n",
    "\n",
    "    # indexing uid&vid and sort by uid and time\n",
    "    dataset = df.merge(pd.Series(df.uid.unique()).reset_index().rename(columns={'index': 'new_uid', 0:'uid'}), left_on='uid', right_on='uid').merge(pd.Series(df.vid.unique()).reset_index().rename(columns={'index': 'new_vid', 0:'vid'}), left_on='vid', right_on='vid')\n",
    "    del dataset['uid']\n",
    "    del dataset['vid']\n",
    "    dataset = dataset.rename(columns={'new_uid':'uid', 'new_vid':'vid'})\n",
    "    uNum = dataset.uid.nunique()\n",
    "    vNum = dataset.vid.nunique()\n",
    "    sparsity = (dataset.shape[0] / (uNum*vNum))*100\n",
    "    print(\"sparsity  %.2f% %\" % sparsity)\n",
    "    sort = dataset[['uid','vid','hour','day','time']].sort_values(['uid','time'])\n",
    "\n",
    "    # generate userCheckins\n",
    "    gb = sort.groupby('uid')    \n",
    "    userCheckins = [gb.get_group(x) for x in gb.groups]\n",
    "\n",
    "\n",
    "    for user in range(uNum):\n",
    "        split_index = int(len(userCheckins[user])*ratio)\n",
    "        train = userCheckins[user][:split_index]\n",
    "        test = userCheckins[user][split_index:]\n",
    "        train.to_csv(output+\"Train\", sep=\"\\t\", header=False, index=False, mode=\"a+\")\n",
    "        test.to_csv(output+\"Test\", sep=\"\\t\", header=False, index=False, mode=\"a+\")\n",
    "\n",
    "\n",
    "filename = '../../checkins/standford_checkins/loc-gowalla_totalCheckins.txt'\n",
    "separater = '\\t'\n",
    "names = ['uid','time','lat','lon','vid']\n",
    "ratio = 0.8\n",
    "output = \"gowalla\"\n",
    "prep_data()"
   ]
  }
 ],
 "metadata": {
  "kernelspec": {
   "display_name": "Python [conda root]",
   "language": "python",
   "name": "conda-root-py"
  },
  "language_info": {
   "codemirror_mode": {
    "name": "ipython",
    "version": 3
   },
   "file_extension": ".py",
   "mimetype": "text/x-python",
   "name": "python",
   "nbconvert_exporter": "python",
   "pygments_lexer": "ipython3",
   "version": "3.5.2"
  }
 },
 "nbformat": 4,
 "nbformat_minor": 2
}
